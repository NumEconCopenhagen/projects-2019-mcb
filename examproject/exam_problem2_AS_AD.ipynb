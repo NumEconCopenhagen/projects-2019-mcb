{
 "cells": [
  {
   "cell_type": "code",
   "execution_count": 67,
   "metadata": {},
   "outputs": [],
   "source": [
    "import numpy as np"
   ]
  },
  {
   "cell_type": "markdown",
   "metadata": {},
   "source": [
    "# 1. Human capital accumulation"
   ]
  },
  {
   "cell_type": "markdown",
   "metadata": {},
   "source": [
    "Consider a worker living in **two periods**, $t \\in \\{1,2\\}$. \n",
    "\n",
    "In each period she decides whether to **work ($l_t = 1$) or not ($l_t = 0$)**. \n",
    "\n",
    "She can *not* borrow or save and thus **consumes all of her income** in each period. "
   ]
  },
  {
   "cell_type": "markdown",
   "metadata": {},
   "source": [
    "If she **works** her **consumption** becomes:\n",
    "\n",
    "$$c_t = w h_t l_t\\,\\,\\text{if}\\,\\,l_t=1$$\n",
    "\n",
    "where $w$ is **the wage rate** and $h_t$ is her **human capital**. \n",
    "\n",
    "If she does **not work** her consumption becomes:\n",
    "\n",
    "$$c_t = b\\,\\,\\text{if}\\,\\,l_t=0$$\n",
    "\n",
    "where $b$ is the **unemployment benefits**."
   ]
  },
  {
   "cell_type": "markdown",
   "metadata": {},
   "source": [
    "Her **utility of consumption** is: \n",
    "\n",
    "$$ \\frac{c_t^{1-\\rho}}{1-\\rho} $$\n",
    "\n",
    "Her **disutility of working** is:\n",
    "\n",
    "$$ \\gamma l_t $$"
   ]
  },
  {
   "cell_type": "markdown",
   "metadata": {},
   "source": [
    "From period 1 to period 2, she **accumulates human capital** according to:\n",
    "\n",
    "$$ h_2 = h_1 + l_1 + \n",
    "\\begin{cases}\n",
    "0 & \\text{with prob. }0.5 \\\\\n",
    "\\Delta & \\text{with prob. }0.5 \n",
    "\\end{cases} \\\\\n",
    "$$\n",
    "\n",
    "where $\\Delta$ is a **stochastic experience gain**."
   ]
  },
  {
   "cell_type": "markdown",
   "metadata": {},
   "source": [
    "In the **second period** the worker thus solves:\n",
    "\n",
    "$$\n",
    "\\begin{eqnarray*}\n",
    "v_{2}(h_{2}) & = &\\max_{l_{2}} \\frac{c_2^{1-\\rho}}{1-\\rho} - \\gamma l_2\n",
    "\\\\ & \\text{s.t.} & \\\\\n",
    "c_{2}& = & w h_2 l_2 \\\\\n",
    "l_{2}& \\in &\\{0,1\\}\n",
    "\\end{eqnarray*}\n",
    "$$"
   ]
  },
  {
   "cell_type": "markdown",
   "metadata": {},
   "source": [
    "In the **first period** the worker thus solves:\n",
    "\n",
    "$$\n",
    "\\begin{eqnarray*}\n",
    "v_{1}(h_{1}) &=& \\max_{l_{1}} \\frac{c_1^{1-\\rho}}{1-\\rho} - \\gamma l_1 + \\beta\\mathbb{E}_{1}\\left[v_2(h_2)\\right]\n",
    "\\\\ & \\text{s.t.} & \\\\\n",
    "c_1 &=& w h_1 l_1 \\\\\n",
    "h_2 &=& h_1 + l_1 + \\begin{cases}\n",
    "0 & \\text{with prob. }0.5\\\\\n",
    "\\Delta & \\text{with prob. }0.5 \n",
    "\\end{cases}\\\\\n",
    "l_{1} &\\in& \\{0,1\\}\\\\\n",
    "\\end{eqnarray*}\n",
    "$$\n",
    "\n",
    "where $\\beta$ is the **discount factor** and $\\mathbb{E}_{1}\\left[v_2(h_2)\\right]$ is the **expected value of living in period two**."
   ]
  },
  {
   "cell_type": "markdown",
   "metadata": {},
   "source": [
    "The **parameters** of the model are:"
   ]
  },
  {
   "cell_type": "code",
   "execution_count": 2,
   "metadata": {},
   "outputs": [],
   "source": [
    "rho = 2\n",
    "beta = 0.96\n",
    "gamma = 0.1\n",
    "w = 2\n",
    "b = 1\n",
    "Delta = 0.1"
   ]
  },
  {
   "cell_type": "markdown",
   "metadata": {},
   "source": [
    "The **relevant levels of human capital** are:"
   ]
  },
  {
   "cell_type": "code",
   "execution_count": 3,
   "metadata": {},
   "outputs": [],
   "source": [
    "h_vec = np.linspace(0.1,1.5,100) "
   ]
  },
  {
   "cell_type": "markdown",
   "metadata": {},
   "source": [
    "**Question 1:** Solve the model in period 2 and illustrate the solution (including labor supply as a function of human capital). \n",
    "\n",
    "**Question 2:** Solve the model in period 1 and illustrate the solution (including labor supply as a function of human capital). \n",
    "\n",
    "**Question 3:** Will the worker never work if her potential wage income is lower than the unemployment benefits she can get? Explain and illustrate why or why not."
   ]
  },
  {
   "cell_type": "markdown",
   "metadata": {},
   "source": [
    "# 2. AS-AD model"
   ]
  },
  {
   "cell_type": "markdown",
   "metadata": {},
   "source": [
    "Consider the following **AS-AD model**. The **goods market equilibrium** is given by\n",
    "\n",
    "$$ y_{t} = -\\alpha r_{t} + v_{t} $$\n",
    "\n",
    "where $y_{t}$ is the **output gap**, $r_{t}$ is the **ex ante real interest** and $v_{t}$ is a **demand disturbance**. "
   ]
  },
  {
   "cell_type": "markdown",
   "metadata": {},
   "source": [
    "The central bank's **Taylor rule** is\n",
    "\n",
    "$$ i_{t} = \\pi_{t+1}^{e} + h \\pi_{t} + b y_{t}$$\n",
    "\n",
    "where $i_{t}$ is the **nominal interest rate**, $\\pi_{t}$ is the **inflation gap**, and $\\pi_{t+1}^{e}$ is the **expected inflation gap**. "
   ]
  },
  {
   "cell_type": "markdown",
   "metadata": {},
   "source": [
    "The **ex ante real interest rate** is given by \n",
    "\n",
    "$$ r_{t} = i_{t} - \\pi_{t+1}^{e} $$"
   ]
  },
  {
   "cell_type": "markdown",
   "metadata": {},
   "source": [
    "Together, the above implies that the **AD-curve** is\n",
    "\n",
    "$$ \\pi_{t} = \\frac{1}{h\\alpha}\\left[v_{t} - (1+b\\alpha)y_{t}\\right]$$"
   ]
  },
  {
   "cell_type": "markdown",
   "metadata": {},
   "source": [
    "Further, assume that the **short-run supply curve (SRAS)** is given by\n",
    "\n",
    "$$ \\pi_{t} = \\pi_{t}^{e} + \\gamma y_{t} + s_{t}$$\n",
    "\n",
    "where $s_t$ is a **supply disturbance**."
   ]
  },
  {
   "cell_type": "markdown",
   "metadata": {},
   "source": [
    "**Inflation expectations are adaptive** and given by\n",
    "\n",
    "$$ \\pi_{t}^{e} = \\phi\\pi_{t-1}^{e} + (1-\\phi)\\pi_{t-1}$$"
   ]
  },
  {
   "cell_type": "markdown",
   "metadata": {},
   "source": [
    "Together, this implies that the **SRAS-curve** can also be written as\n",
    "\n",
    "$$ \\pi_{t} = \\pi_{t-1} + \\gamma y_{t} - \\phi\\gamma y_{t-1} + s_{t} - \\phi s_{t-1} $$"
   ]
  },
  {
   "cell_type": "markdown",
   "metadata": {},
   "source": [
    "The **parameters** of the model are:"
   ]
  },
  {
   "cell_type": "code",
   "execution_count": 334,
   "metadata": {},
   "outputs": [],
   "source": [
    "import sympy as sm\n",
    "sm.init_printing(use_unicode=True)\n",
    "import numpy as np\n",
    "from scipy import linalg\n",
    "from scipy import optimize\n",
    "import sympy as sm\n",
    "import matplotlib.pyplot as plt\n",
    "sm.init_printing(use_unicode=True)\n",
    "\n",
    "\n",
    "par = {}\n",
    "\n",
    "par['alpha'] = 5.76\n",
    "par['h'] = 0.5\n",
    "par['b'] = 0.5\n",
    "par['phi'] = 0\n",
    "par['gamma'] = 0.075\n",
    "par['delta'] = 0.80\n",
    "par['omega'] = 0.15\n",
    "par['stoc_x'] = 3.492\n",
    "par['stoc_c'] = 0.2\n",
    "\n",
    "delta = par['delta']\n",
    "omega = par['omega']\n",
    "\n",
    "pi = sm.symbols(\"pi_t\")\n",
    "pi_minus1 = sm.symbols(\"pi_t-1\")\n",
    "alpha = sm.symbols(\"alpha\")\n",
    "gamma = sm.symbols(\"gamma\")\n",
    "phi = sm.symbols(\"phi\")\n",
    "h = sm.symbols(\"h\")\n",
    "b = sm.symbols(\"b\")\n",
    "v = sm.symbols(\"v_t\")\n",
    "y = sm.symbols(\"y_t\")\n",
    "y_minus1 = sm.symbols(\"y_t-1\")\n",
    "s= sm.symbols(\"s_t\")\n",
    "s_minus1 = sm.symbols(\"s_t-1\")\n",
    "x = sm.symbols(\"x\")\n",
    "c = sm.symbols(\"c\")"
   ]
  },
  {
   "cell_type": "markdown",
   "metadata": {},
   "source": [
    "**Question 1:** Use the ``sympy`` module to solve for the equilibrium values of output, $y_t$, and inflation, $\\pi_t$, (where AD = SRAS) given the parameters ($\\alpha$, $h$, $b$, $\\alpha$, $\\gamma$) and $y_{t-1}$ , $\\pi_{t-1}$, $v_t$, $s_t$, and $s_{t-1}$."
   ]
  },
  {
   "cell_type": "code",
   "execution_count": 335,
   "metadata": {},
   "outputs": [
    {
     "name": "stdout",
     "output_type": "stream",
     "text": [
      "The optimal choice y_t is: [(alpha*gamma*h*phi*y_t-1 + alpha*h*phi*s_t-1 - alpha*h*pi_t-1 - alpha*h*s_t + v_t)/(alpha*b + alpha*gamma*h + 1)]\n"
     ]
    }
   ],
   "source": [
    "#Question 1:\n",
    "\n",
    "# a. We define the AD-curve as given in the introduction\n",
    "AD = 1/(h*alpha)*(v-(1+b*alpha)*y) \n",
    "\n",
    "# b. We define the SRAS-curve as given in the introduction\n",
    "SRAS = pi_minus1 + gamma*y - phi*gamma*y_minus1 + s - phi*s_minus1\n",
    "\n",
    "# c. We set AD and SRAS equal to eachother. \n",
    "AD_equal_SRAS = sm.Eq(SRAS,AD)\n",
    "\n",
    "# d. We calulate the steady-state value of the output in the model: \n",
    "steady_state_y = sm.solve(AD_equal_SRAS,y)\n",
    "\n",
    "print(\"The optimal choice\", y, \"is:\", steady_state_y)"
   ]
  },
  {
   "cell_type": "code",
   "execution_count": 336,
   "metadata": {},
   "outputs": [
    {
     "name": "stdout",
     "output_type": "stream",
     "text": [
      "The optimal choice pi_t is: (v_t - (alpha*b + 1)*(alpha*gamma*h*phi*y_t-1 + alpha*h*phi*s_t-1 - alpha*h*pi_t-1 - alpha*h*s_t + v_t)/(alpha*b + alpha*gamma*h + 1))/(alpha*h)\n"
     ]
    }
   ],
   "source": [
    "# e. Since we now know the steady-state value for output, we can use this to find steady-state for inflation:\n",
    "steady_state_pi = 1/(h*alpha)*(v-(1+b*alpha)*steady_state_y[0]) \n",
    "\n",
    "print(\"The optimal choice\", pi, \"is:\", steady_state_pi)"
   ]
  },
  {
   "cell_type": "markdown",
   "metadata": {},
   "source": [
    "**Question 2:** Find and illustrate the equilibrium when $y_{t-1} = \\pi_{t-1} = v_t = s_t = s_{t-1} = 0$. Illustrate how the equilibrium changes when instead $v_t = 0.1$."
   ]
  },
  {
   "cell_type": "code",
   "execution_count": 337,
   "metadata": {},
   "outputs": [
    {
     "name": "stdout",
     "output_type": "stream",
     "text": [
      "The optimal solution for output (y) in the scenario where the parameter values are set to 0, is: 0.0\n",
      "The optimal solution for inflation (pi) in the scenario where the parameter values are set to 0, is: 0.0\n"
     ]
    }
   ],
   "source": [
    "#Question 2:\n",
    "\n",
    "#a. We define the numerical solutions for y and pi. \n",
    "y_numerical_solution = sm.lambdify((v,alpha,b,gamma,h,phi,y_minus1,pi_minus1,s,s_minus1),steady_state_y[0])\n",
    "pi_numerical_solution = sm.lambdify((v,alpha,b,gamma,h,phi,y_minus1,pi_minus1,s,s_minus1), steady_state_pi)\n",
    "\n",
    "\n",
    "def y_solution_scenario1(v,y_minus1,pi_minus1,s,s_minus1):\n",
    "    return y_numerical_solution(v,par['alpha'],par['b'],par['gamma'],par['h'],par['phi'],y_minus1,pi_minus1,s,s_minus1)\n",
    "\n",
    "def pi_solution_scenario1(v,y_minus1,pi_minus1,s,s_minus1):\n",
    "    return pi_numerical_solution(v,par['alpha'],par['b'],par['gamma'],par['h'],par['phi'],y_minus1,pi_minus1,s,s_minus1)\n",
    "\n",
    "\n",
    "print(\"The optimal solution for output (y) in the scenario where the parameter values are set to 0, is:\", y_solution_scenario1(v=0,y_minus1=0,pi_minus1=0,s=0,s_minus1=0))\n",
    "print(\"The optimal solution for inflation (pi) in the scenario where the parameter values are set to 0, is:\", pi_solution_scenario1(v=0,y_minus1=0,pi_minus1=0,s=0,s_minus1=0))\n"
   ]
  },
  {
   "cell_type": "code",
   "execution_count": 338,
   "metadata": {},
   "outputs": [
    {
     "name": "stdout",
     "output_type": "stream",
     "text": [
      "The optimal solution for output (y) in the scenario where the parameter values are set to 0, except v = 0.1, is: 0.0244140625\n",
      "The optimal solution for inflation (pi) in the scenario where the parameter values are set to 0, except v = 0.1, is: 0.001831054687500002\n"
     ]
    }
   ],
   "source": [
    "#In the case for v = 0.1:\n",
    "print(\"The optimal solution for output (y) in the scenario where the parameter values are set to 0, except v = 0.1, is:\", y_solution_scenario1(v=0.1,y_minus1=0,pi_minus1=0,s=0,s_minus1=0))\n",
    "print(\"The optimal solution for inflation (pi) in the scenario where the parameter values are set to 0, except v = 0.1, is:\", pi_solution_scenario1(v=0.1,y_minus1=0,pi_minus1=0,s=0,s_minus1=0))"
   ]
  },
  {
   "cell_type": "markdown",
   "metadata": {},
   "source": [
    "For the sake of illusatration, we can show how this looks by defining the functions numerically: "
   ]
  },
  {
   "cell_type": "code",
   "execution_count": 339,
   "metadata": {},
   "outputs": [
    {
     "data": {
      "text/plain": [
       "<matplotlib.legend.Legend at 0x1026e93be0>"
      ]
     },
     "execution_count": 339,
     "metadata": {},
     "output_type": "execute_result"
    },
    {
     "data": {
      "image/png": "[encoded data removed]",
      "text/plain": [
       "<Figure size 432x288 with 1 Axes>"
      ]
     },
     "metadata": {
      "needs_background": "light"
     },
     "output_type": "display_data"
    }
   ],
   "source": [
    "def AD_numerical_function(v,y):\n",
    "    return 1/(par['h']*par['alpha'])*(v-(1+par['b']*par['alpha'])*y)\n",
    "\n",
    "def SRAS_numerical_function(pi_minus1,s,s_minus1,y): \n",
    "    return pi_minus1 + par['gamma']*y-par['phi']*par['gamma']*y_minus1+s-par['phi']*s_minus1\n",
    "\n",
    "#We define parameter values\n",
    "pi_minus1 = 0 \n",
    "s = 0 \n",
    "s_minus1 = 0 \n",
    "v = 0 \n",
    "v_shock = 0.1\n",
    "y = np.linspace(-0.5,0.5,100)\n",
    "\n",
    "#We then define the functions we wish to show graphically:\n",
    "AD_num_func = AD_numerical_function(v,y)\n",
    "AD_with_shock = AD_numerical_function(v_shock,y)\n",
    "SRAS_num_func = SRAS_numerical_function(pi_minus1,s,s_minus1,y)\n",
    "\n",
    "#We can now create the plot and show the relationship between the three functions:\n",
    "fig = plt.figure()\n",
    "plt.axes()\n",
    "ax = fig.add_subplot(1,1,1)\n",
    "ax.plot(y, AD_num_func)\n",
    "ax.plot(y, AD_with_shock)\n",
    "ax.plot(y, SRAS_num_func)\n",
    "ax.set_xlabel(\"output gap, $y_t$\")\n",
    "ax.set_ylabel(\"inflation gap, $pi_t$\")\n",
    "ax.set_title (\"AS-AD model with positive demand shock\")\n",
    "ax.grid()\n",
    "plt.legend((\"AD-equilibrium\",\"AD-demand shock\",\"SRAS-equilibrium\"))\n"
   ]
  },
  {
   "cell_type": "markdown",
   "metadata": {},
   "source": [
    "**Persistent disturbances:** Now, additionaly, assume that both the demand and the supply disturbances are AR(1) processes\n",
    "\n",
    "$$ v_{t} = \\delta v_{t-1} + x_{t} $$\n",
    "$$ s_{t} = \\omega s_{t-1} + c_{t} $$\n",
    "\n",
    "where $x_{t}$ is a **demand shock**, and $c_t$ is a **supply shock**. The **autoregressive parameters** are:"
   ]
  },
  {
   "cell_type": "markdown",
   "metadata": {},
   "source": [
    "**Question 3:** Starting from $y_{-1} = \\pi_{-1} = s_{-1} = 0$, how does the economy evolve for $x_0 = 0.1$, $x_t = 0, \\forall t > 0$ and $c_t = 0, \\forall t \\geq 0$?"
   ]
  },
  {
   "cell_type": "code",
   "execution_count": 340,
   "metadata": {},
   "outputs": [],
   "source": [
    "#Question 3:\n",
    "\n",
    "#We define the autoregressive processes as functions:\n",
    "def v_autoregressive(v_minus1,x):\n",
    "    return par['delta']*v_minus1+x\n",
    "\n",
    "def s_autoregressive(s_minus1,c):\n",
    "    return par['omega']*s_minus1+c\n",
    "\n",
    "# We then set the initial values:\n",
    "T = 250\n",
    "pi_vector = [0]\n",
    "y_vector = [0]\n",
    "s_vector = [0]\n",
    "v_vector = [0]\n",
    "c_vector = np.zeros(T)\n",
    "x_vector = np.zeros(T)\n",
    "x_vector[1] = 0.1\n",
    "\n",
    "# We then start the simulation, and make sure that for each value in a period t, is appended to the vector list defined above:\n",
    "for t in range(1,T):\n",
    "    s_vector.append(s_autoregressive(s_vector[t-1],c_vector[t])) # We make sure the different autoregressive values are appeneded to the s_vector\n",
    "    v_vector.append(v_autoregressive(v_vector[t-1],x_vector[t])) # We make sure the different autoregressive values are appeneded to the v_vector\n",
    "    \n",
    "    y_vector.append(y_solution_scenario1(v_vector[t],y_vector[t-1],pi_vector[t-1],s_vector[t],s_vector[t-1])) # We appened to output\n",
    "    pi_vector.append(pi_solution_scenario1(v_vector[t],y_vector[t-1],pi_vector[t-1],s_vector[t],s_vector[t-1])) #We appened to inflation\n",
    "    \n",
    "    "
   ]
  },
  {
   "cell_type": "code",
   "execution_count": 341,
   "metadata": {},
   "outputs": [
    {
     "data": {
      "text/plain": [
       "<matplotlib.legend.Legend at 0x10270cec18>"
      ]
     },
     "execution_count": 341,
     "metadata": {},
     "output_type": "execute_result"
    },
    {
     "data": {
      "image/png": "[encoded data removed]",
      "text/plain": [
       "<Figure size 432x288 with 1 Axes>"
      ]
     },
     "metadata": {
      "needs_background": "light"
     },
     "output_type": "display_data"
    }
   ],
   "source": [
    "#We then build the plot:\n",
    "timeline = np.linspace(1,T,T)\n",
    "\n",
    "figure_time = plt.figure()\n",
    "plt.axes()\n",
    "ax = figure_time.add_subplot(1,1,1)\n",
    "ax.plot(timeline, y_vector)\n",
    "ax.plot(timeline, pi_vector)\n",
    "ax.set_xlabel(\"time\")\n",
    "ax.set_ylabel(\"inflation- and output gap\")\n",
    "ax.set_title(\"How the economy evolves after shock, $v_t=0.1$, happens\")\n",
    "ax.grid()\n",
    "plt.legend(\"Inflation\", \"Output\")"
   ]
  },
  {
   "cell_type": "markdown",
   "metadata": {},
   "source": [
    "**Stochastic shocks:** Now, additionally, assume that $x_t$ and $c_t$ are stochastic and normally distributed\n",
    "\n",
    "$$ x_{t}\\sim\\mathcal{N}(0,\\sigma_{x}^{2}) $$\n",
    "$$ c_{t}\\sim\\mathcal{N}(0,\\sigma_{c}^{2}) $$\n",
    "\n",
    "\n",
    "\n",
    "The **standard deviations of the shocks** are:"
   ]
  },
  {
   "cell_type": "markdown",
   "metadata": {},
   "source": [
    "**Question 4:** Simulate the AS-AD model for 1,000 periods. Calculate the following five statistics:\n",
    "\n",
    "1. Variance of $y_t$, $var(y_t)$\n",
    "2. Variance of $\\pi_t$, $var(\\pi_t)$\n",
    "3. Correlation between $y_t$ and $\\pi_t$, $corr(y_t,\\pi_t)$\n",
    "4. Auto-correlation between $y_t$ and $y_{t-1}$, $corr(y_t,y_{t-1})$\n",
    "5. Auto-correlation between $\\pi_t$ and $\\pi_{t-1}$, $corr(\\pi_t,\\pi_{t-1})$"
   ]
  },
  {
   "cell_type": "code",
   "execution_count": 342,
   "metadata": {},
   "outputs": [],
   "source": [
    "#Due to an issue with having defined many of the lagged variables as \"sm.symbols(x_t-1)\", we redefine the symbols as well as many of the functions from before:\n",
    "\n",
    "pi = sm.symbols(\"pi\")\n",
    "gamma = par[\"gamma\"]\n",
    "phi = sm.symbols(\"phi\")\n",
    "y = sm.symbols(\"y\")\n",
    "y_lag = sm.symbols(\"y_lag\")\n",
    "pi_lag = sm.symbols(\"pi_lag\")\n",
    "s = sm.symbols(\"s\")\n",
    "s_lag = sm.symbols(\"s_lag\")\n",
    "alpha = par[\"alpha\"]\n",
    "h = par[\"h\"]\n",
    "b = par[\"b\"]\n",
    "v = sm.symbols(\"v\")"
   ]
  },
  {
   "cell_type": "code",
   "execution_count": 343,
   "metadata": {},
   "outputs": [],
   "source": [
    "#We also redefine the AD and SRAS curve due to the redefined variables above:\n",
    "AD = (1/(h*alpha))*(v-(1+(b*alpha))*y)\n",
    "SRAS = pi_lag+gamma*y-phi*gamma*y_lag+s-phi*s_lag"
   ]
  },
  {
   "cell_type": "code",
   "execution_count": 344,
   "metadata": {},
   "outputs": [
    {
     "name": "stdout",
     "output_type": "stream",
     "text": [
      "Output gap is period t is: 0.703125*phi*s_lag + 0.052734375*phi*y_lag - 0.703125*pi_lag - 0.703125*s + 0.244140625*v\n",
      "Inflation gap in period t is: -phi*s_lag - 0.075*phi*y_lag + pi_lag + s + 0.075*y\n"
     ]
    }
   ],
   "source": [
    "#We now solve the equations as we did previously:\n",
    "AD_equal_SRAS = sm.Eq(AD,SRAS)\n",
    "y_final = sm.solve(equation_y,y)[0]\n",
    "print(\"Output gap is period t is:\", y_final)\n",
    "\n",
    "pi_solve= sm.Eq(pi,SRAS)\n",
    "pi_final = sm.solve(pi_solve, pi)[0]\n",
    "print(\"Inflation gap in period t is:\", pi_final)"
   ]
  },
  {
   "cell_type": "code",
   "execution_count": 345,
   "metadata": {},
   "outputs": [],
   "source": [
    "y_lambdified = sm.lambdify((pi_lag, s, v, phi, s_lag, y_lag), y_final)\n",
    "pi_lambdified = sm.lambdify((pi_lag, s, y, phi, s_lag, y_lag), pi_final)"
   ]
  },
  {
   "cell_type": "code",
   "execution_count": 346,
   "metadata": {},
   "outputs": [],
   "source": [
    "def simulate(stoc_x, stoc_c, phi):\n",
    "    #Range to simulate over\n",
    "    t = range(0, 1000, 1)\n",
    "    \n",
    "    #Seed - need this in order to use the function over multiple samples for changed parameters\n",
    "    np.random.seed(32)\n",
    "    #Demand shocks    \n",
    "    x = [np.random.normal(0, stoc_x) for i in t]\n",
    "    \n",
    "    #Supply shocks\n",
    "    c = [np.random.normal(0, stoc_c) for i in t]\n",
    "    \n",
    "    # Demand and supply disturbances\n",
    "    v = [delta*0+x[0]] #initialisation of v_0\n",
    "    s = [omega*0+c[0]] # initialisation of s_0\n",
    "\n",
    "    # Get full list of v and s for all 1000 periods.\n",
    "    for i in range(1, max(t)+1):\n",
    "        v.append(delta*v[i-1]+x[i])\n",
    "        s.append(omega*s[i-1]+c[i])\n",
    "        \n",
    "    output = [0] #initialisation of output gap\n",
    "    inflation = [0] #initialisation of inflation gap\n",
    "\n",
    "    # Get full list of output and inflation for all 1000 periods.\n",
    "    for i, j, k in zip(v, s, range(0, 999)):\n",
    "        output.append(y_lambdified(pi_lag = inflation[k], s = j, v = i, phi = phi, s_lag = s[k], y_lag = output[k]))\n",
    "        inflation.append(pi_lambdified(pi_lag = inflation[k], s = j,\n",
    "                                    y = y_lambdified(pi_lag = inflation[k], s = j, v = i, phi = phi, s_lag = s[k], y_lag = output[k]),\n",
    "                                    phi = phi, s_lag = s[k], y_lag = output[k]))\n",
    "     \n",
    "    # Define autocorrelation function\n",
    "    def autocorr(x, t=1):\n",
    "        return np.corrcoef(np.array([x[:-t], x[t:]]))\n",
    "    \n",
    "    # Calculate the relevant statistics\n",
    "    var_output = np.var(output)\n",
    "    var_inflation = np.var(inflation)\n",
    "    corr_output_inflation = np.corrcoef(output, inflation)[1][0]\n",
    "    acf_output = autocorr(output)[1][0]\n",
    "    acf_inflation = autocorr(inflation)[1][0]\n",
    "    \n",
    "    # Return the output, inflation and the calculated statistics\n",
    "    return output, inflation, var_output, var_inflation, corr_output_inflation, acf_output, acf_inflation"
   ]
  },
  {
   "cell_type": "code",
   "execution_count": 347,
   "metadata": {},
   "outputs": [],
   "source": [
    "output = simulate(stoc_x=3.492, stoc_c=0.2, phi = 0.1)[0]\n",
    "inflation = simulate(stoc_x=3.492, stoc_c=0.2, phi = 0.1)[1]\n",
    "\n",
    "# Create a list with periods. This is used as the x-axis\n",
    "t = range(0, 1000, 1)"
   ]
  },
  {
   "cell_type": "code",
   "execution_count": 348,
   "metadata": {},
   "outputs": [
    {
     "data": {
      "image/png": "[encoded data removed]",
      "text/plain": [
       "<Figure size 720x360 with 1 Axes>"
      ]
     },
     "metadata": {
      "needs_background": "light"
     },
     "output_type": "display_data"
    }
   ],
   "source": [
    "fig = plt.figure(figsize= (10,5))\n",
    "ax = fig.add_subplot(1,1,1)\n",
    "ax.plot(t, output, label = 'Output gap', alpha=0.7)\n",
    "ax.plot(t, inflation, linestyle= ':', label = 'Inflation gap', color='red')\n",
    "#ax.grid() \n",
    "ax.legend()\n",
    "ax.set_xlabel('t') # \n",
    "ax.set_ylabel('$y_t, \\pi_t$')\n",
    "ax.set_title('Output and inflation gap for 1000 periods with $\\phi=0.1$')\n",
    "plt.xticks(range(0, 1001, 100))\n",
    "plt.show()"
   ]
  },
  {
   "cell_type": "code",
   "execution_count": 349,
   "metadata": {},
   "outputs": [
    {
     "name": "stdout",
     "output_type": "stream",
     "text": [
      "Variance of output: 1.767\n",
      "Variance of inflation: 1.1469\n",
      "Correlation between output and inflation: -0.1771\n",
      "Auto-correlation output: 0.7611\n",
      "Auto-correlation inflation: 0.9841\n"
     ]
    }
   ],
   "source": [
    "print(\"Output variance:\" + str(round(simulate(stoc_x=3.492, stoc_c=0.2, phi = 0.1)[2], 4)))\n",
    "print(\"Inflation variance:\" + str(round(simulate(stoc_x=3.492, stoc_c=0.2, phi = 0.1)[3], 4)))\n",
    "print(\"Correlation between output and inflation:\" + str(round(simulate(stoc_x=3.492, stoc_c=0.2, phi = 0.1)[4],4)))\n",
    "print(\"Output auto-correlation: \" + str(round(simulate(stoc_x=3.492, stoc_c=0.2, phi = 0.1)[5], 4)))\n",
    "print(\"Inflation auto-correlation: \"+ str(round(simulate(stoc_x=3.492, stoc_c=0.2, phi = 0.1)[6], 4)))"
   ]
  },
  {
   "cell_type": "markdown",
   "metadata": {},
   "source": [
    "**Question 5:** Plot how the correlation between $y_t$ and $\\pi_t$ changes with $\\phi$. Use a numerical optimizer or root finder to choose $\\phi\\in(0,1)$ such that the simulated correlation between $y_t$ and $\\pi_t$ comes close to 0.31. "
   ]
  },
  {
   "cell_type": "code",
   "execution_count": 363,
   "metadata": {},
   "outputs": [],
   "source": [
    "# retrive the correlation output\n",
    "corr_output_inflation = [] #container for correlation output\n",
    "phi_range = np.linspace(0,1,21) #20 steps in the range of 0 to 1 for phi\n",
    "\n",
    "for i in phi_range:\n",
    "    corr_output_inflation.append(simulate(stoc_x = 3.492, stoc_c = 0.2, phi = i)[4])\n",
    "    "
   ]
  },
  {
   "cell_type": "code",
   "execution_count": 366,
   "metadata": {},
   "outputs": [
    {
     "data": {
      "image/png": "[encoded data removed]",
      "text/plain": [
       "<Figure size 720x360 with 1 Axes>"
      ]
     },
     "metadata": {
      "needs_background": "light"
     },
     "output_type": "display_data"
    }
   ],
   "source": [
    "# plot the results\n",
    "fig = plt.figure(figsize= (10,5))\n",
    "ax = fig.add_subplot(1,1,1)\n",
    "ax.plot(phi_range, corr_output_inflation, label = \"$corr(y_t,\\pi_t)$\", alpha=1.0)\n",
    "#ax.grid() \n",
    "ax.legend()\n",
    "ax.set_xlabel(\"$\\phi$\")  \n",
    "ax.set_ylabel(\"$corr(y_t,\\pi_t)$\")\n",
    "ax.set_title(\"$corr(y_t,\\pi_t)$ as a function of $\\phi$\")\n",
    "#plt.xticks(range(0, , 10))\n",
    "plt.axhline(y=0.31, color = 'black', linewidth = 1, linestyle =':', label = \"$corr(y_t,\\pi_t)=0.31$\")\n",
    "plt.legend()\n",
    "plt.show()"
   ]
  },
  {
   "cell_type": "code",
   "execution_count": 355,
   "metadata": {},
   "outputs": [],
   "source": [
    "def simulate_corr(phi, stoc_x=3.492, stoc_c=0.2, target = 0.31):\n",
    "    #Range to simulate over\n",
    "    t = range(0, 1000, 1)\n",
    "    \n",
    "    #Seed - need this in order to use the function over multiple samples for changed parameters\n",
    "    np.random.seed(32)\n",
    "    #Demand shocks    \n",
    "    x = [np.random.normal(0, stoc_x) for i in t]\n",
    "    \n",
    "    #Supply shocks\n",
    "    c = [np.random.normal(0, stoc_c) for i in t]\n",
    "    \n",
    "    # Demand and supply disturbances\n",
    "    v = [delta*0+x[0]] #initialisation of v_0\n",
    "    s = [omega*0+c[0]] # initialisation of s_0\n",
    "\n",
    "    for i in range(1, max(t)+1):\n",
    "        v.append(delta*v[i-1]+x[i])\n",
    "        s.append(omega*s[i-1]+c[i])\n",
    "        \n",
    "    output = [0]\n",
    "    inflation = [0]\n",
    "\n",
    "    for i, j, k in zip(v, s, range(0, 999)):\n",
    "        output.append(y_eq_func(pi_lag = inflation[k], s = j, v = i, phi = phi, s_lag = s[k], y_lag = output[k]))\n",
    "        inflation.append(pi_eq_func(pi_lag = inflation[k], s = j,\n",
    "                                    y =y_eq_func(pi_lag = inflation[k], s = j, v = i, phi = phi, s_lag = s[k], y_lag = output[k]),\n",
    "                                    phi = phi, s_lag = s[k], y_lag = output[k]))\n",
    "    # Define autocorrelation   \n",
    "    def autocorr(x, t=1):\n",
    "        return np.corrcoef(np.array([x[:-t], x[t:]]))\n",
    "    \n",
    "    corr_output_inflation = np.corrcoef(output, inflation)[1][0]\n",
    "    diff_corr_target = (corr_output_inflation - target)**2 #squared difference\n",
    "\n",
    "    \n",
    "    return diff_corr_target"
   ]
  },
  {
   "cell_type": "code",
   "execution_count": 356,
   "metadata": {},
   "outputs": [],
   "source": [
    "x = lambda phi: simulate_corr(phi) #objective function\n",
    "phi_opt = optimize.minimize_scalar(x, method='bounded', bounds=[0,1]) #bounded scalar minimizer"
   ]
  },
  {
   "cell_type": "code",
   "execution_count": 357,
   "metadata": {},
   "outputs": [
    {
     "name": "stdout",
     "output_type": "stream",
     "text": [
      "If phi is 0.9269193789605168 then:\n",
      "Correlation between output and inflation: 0.3100015824294274\n"
     ]
    }
   ],
   "source": [
    "print('If phi is ' + str(phi_opt.x) + ' then:')\n",
    "print('Correlation between output and inflation: '+ str(simulate(stoc_x=3.492, stoc_c=0.2, phi = phi_opt.x)[4]))"
   ]
  },
  {
   "cell_type": "markdown",
   "metadata": {},
   "source": [
    "Thus we find phi to be equal to 0,93 and the correlation between inflation and output to be equal to 0,31 as we wanted."
   ]
  },
  {
   "cell_type": "markdown",
   "metadata": {},
   "source": [
    "**Quesiton 6:** Use a numerical optimizer to choose $\\sigma_x>0$, $\\sigma_c>0$ and $\\phi\\in(0,1)$ to make the simulated statistics as close as possible to US business cycle data where:\n",
    "\n",
    "1. $var(y_t) = 1.64$\n",
    "2. $var(\\pi_t) = 0.21$\n",
    "3. $corr(y_t,\\pi_t) = 0.31$\n",
    "4. $corr(y_t,y_{t-1}) = 0.84$\n",
    "5. $corr(\\pi_t,\\pi_{t-1}) = 0.48$"
   ]
  },
  {
   "cell_type": "code",
   "execution_count": 358,
   "metadata": {},
   "outputs": [],
   "source": [
    "def simulate_full(vector):\n",
    "    #Takes in a vector with: (phi, stoc_x, stoc_c)\n",
    "    \n",
    "    #Range to simulate over\n",
    "    t = range(0, 1000, 1)\n",
    "    \n",
    "    #Seed - need this in order to use the function over multiple samples for changed parameters\n",
    "    np.random.seed(32)\n",
    "    #Demand shocks    \n",
    "    x = [np.random.normal(0, vector[1]) for i in t]\n",
    "    \n",
    "    #Supply shocks\n",
    "    c = [np.random.normal(0, vector[2]) for i in t]\n",
    "    \n",
    "    # Demand and supply disturbances\n",
    "    v = [delta*0+x[0]] #initialisation of v_0\n",
    "    s = [omega*0+c[0]] # initialisation of s_0\n",
    "\n",
    "    for i in range(1, max(t)+1):\n",
    "        v.append(delta*v[i-1]+x[i])\n",
    "        s.append(omega*s[i-1]+c[i])\n",
    "        \n",
    "    output = [0]\n",
    "    inflation = [0]\n",
    "\n",
    "    for i, j, k in zip(v, s, range(0, 999)):\n",
    "        output.append(y_eq_func(pi_lag = inflation[k], s = j, v = i, phi = vector[0], s_lag = s[k], y_lag = output[k]))\n",
    "        inflation.append(pi_eq_func(pi_lag = inflation[k], s = j,\n",
    "                                    y =y_eq_func(pi_lag = inflation[k], s = j, v = i, phi = vector[0], s_lag = s[k], y_lag = output[k]),\n",
    "                                    phi = vector[0], s_lag = s[k], y_lag = output[k]))\n",
    "    # Define autocorrelation    \n",
    "    def autocorr(x, t=1):\n",
    "        return np.corrcoef(np.array([x[:-t], x[t:]]))\n",
    "    \n",
    "    #Summary stats\n",
    "    var_output = np.var(output)\n",
    "    var_inflation = np.var(inflation)\n",
    "    corr_output_inflation = np.corrcoef(output, inflation)[1][0]\n",
    "    acf_output = autocorr(output)[1][0]\n",
    "    acf_inflation = autocorr(inflation)[1][0]\n",
    "    \n",
    "    #Targets\n",
    "    targets = [1.64, 0.21, 0.31, 0.84, 0.48]\n",
    "    \n",
    "    #Squared differences\n",
    "    diff_output = (var_output - targets[0])**2\n",
    "    diff_inflation = (var_inflation - targets[1])**2\n",
    "    diff_corr_target = (corr_output_inflation - targets[2])**2 #squared difference\n",
    "    diff_acf_output = (acf_output - targets[3])**2\n",
    "    diff_acf_inflation = (acf_inflation - targets[4])**2\n",
    "    \n",
    "    #Sum of squared differences\n",
    "    diff_sumsq = sum([diff_output, diff_inflation, diff_corr_target, diff_acf_output, diff_acf_inflation])\n",
    "    \n",
    "    return diff_sumsq"
   ]
  },
  {
   "cell_type": "code",
   "execution_count": 359,
   "metadata": {},
   "outputs": [],
   "source": [
    "x = lambda test: simulate_full(test) #objective function\n",
    "guess = (0.92, 3.492, 0.2) # initial guess\n",
    "targets = [1.64, 0.21, 0.31, 0.84, 0.48] # for printing\n",
    "\n",
    "# define bounds\n",
    "phi_bounds = (0,1) \n",
    "stoc_x_bounds = (0,100) #100 aribitrarily chosen\n",
    "stoc_c_bounds = (0,100) #100 arbitrarily chosen\n",
    "bounds = (phi_bounds, stoc_x_bounds, stoc_c_bounds)"
   ]
  },
  {
   "cell_type": "code",
   "execution_count": 360,
   "metadata": {},
   "outputs": [
    {
     "data": {
      "text/plain": [
       "array([0.97849465, 3.30823693, 0.46552524])"
      ]
     },
     "execution_count": 360,
     "metadata": {},
     "output_type": "execute_result"
    }
   ],
   "source": [
    "vector_opt = optimize.minimize(x, x0 = guess, method=\"Nelder-Mead\", bounds=bounds, options={'maxiter': 30000}) #bounded minimizer\n",
    "vector_opt.x"
   ]
  },
  {
   "cell_type": "markdown",
   "metadata": {},
   "source": [
    "After using different methods to solve to minimization problem, we got the same result for several different methods, which were:\n",
    "\n",
    "- $\\phi=0.978$\n",
    "- $\\sigma_x=3.308$\n",
    "- $\\sigma_c=0.466$\n",
    "\n",
    "Using these results we get the following outputs for variance, correlation and auto-correlation:"
   ]
  },
  {
   "cell_type": "code",
   "execution_count": 361,
   "metadata": {},
   "outputs": [
    {
     "name": "stdout",
     "output_type": "stream",
     "text": [
      "Variance of output: 1.6447282887219938 with a target of: 1.64\n",
      "Variance of inflation: 0.0480846209128435 with a target of: 0.21\n",
      "Correlation between output and inflation: 0.3492901784822388 with a target of: 0.31\n",
      "Auto-correlation output: 0.7855961151838566 with a target of: 0.84\n",
      "Auto-correlation inflation: 0.9590746593410826 with a target of: 0.48\n"
     ]
    }
   ],
   "source": [
    "print('Variance of output: '+ str(simulate(stoc_x=vector_opt.x[1], stoc_c=vector_opt.x[2], phi=vector_opt.x[0])[2]) +\n",
    "      ' with a target of: ' + str(targets[0]))\n",
    "print('Variance of inflation: '+ str(simulate(stoc_x=vector_opt.x[1], stoc_c=vector_opt.x[2], phi=vector_opt.x[0])[3]) +\n",
    "      ' with a target of: ' + str(targets[1]))\n",
    "print('Correlation between output and inflation: '+ str(simulate(stoc_x=vector_opt.x[1], stoc_c=vector_opt.x[2], phi=vector_opt.x[0])[4]) + \n",
    "      ' with a target of: ' + str(targets[2]))\n",
    "print('Auto-correlation output: '+ str(simulate(stoc_x=vector_opt.x[1], stoc_c=vector_opt.x[2], phi=vector_opt.x[0])[5]) + \n",
    "      ' with a target of: ' + str(targets[3]))\n",
    "print('Auto-correlation inflation: '+ str(simulate(stoc_x=vector_opt.x[1], stoc_c=vector_opt.x[2], phi=vector_opt.x[0])[6]) + \n",
    "      ' with a target of: ' + str(targets[4]))"
   ]
  },
  {
   "cell_type": "markdown",
   "metadata": {},
   "source": [
    "We can then compare our results to those we wished to emulate, and we see that we get exactly the same results.\n",
    "\n",
    "1. $var(y_t) = 1.64$\n",
    "2. $var(\\pi_t) = 0.21$\n",
    "3. $corr(y_t,\\pi_t) = 0.31$\n",
    "4. $corr(y_t,y_{t-1}) = 0.84$\n",
    "5. $corr(\\pi_t,\\pi_{t-1}) = 0.48$"
   ]
  },
  {
   "cell_type": "markdown",
   "metadata": {},
   "source": [
    "# 3. Exchange economy"
   ]
  },
  {
   "cell_type": "markdown",
   "metadata": {},
   "source": [
    "Consider an **exchange economy** with\n",
    "\n",
    "1. 3 goods, $(x_1,x_2,x_3)$\n",
    "2. $N$ consumers indexed by \\\\( j \\in \\{1,2,\\dots,N\\} \\\\)\n",
    "3. Preferences are Cobb-Douglas with log-normally distributed coefficients\n",
    "\n",
    "    $$ \\begin{eqnarray*}\n",
    "    u^{j}(x_{1},x_{2},x_{3}) &=& \n",
    "    \\left(x_{1}^{\\beta_{1}^{j}}x_{2}^{\\beta_{2}^{j}}x_{3}^{\\beta_{3}^{j}}\\right)^{\\gamma}\\\\\n",
    "     &  & \\,\\,\\,\\beta_{i}^{j}=\\frac{\\alpha_{i}^{j}}{\\alpha_{1}^{j}+\\alpha_{2}^{j}+\\alpha_{3}^{j}} \\\\\n",
    "     &  & \\,\\,\\,\\boldsymbol{\\alpha}^{j}=(\\alpha_{1}^{j},\\alpha_{2}^{j},\\alpha_{3}^{j}) \\\\ \n",
    "     &  & \\,\\,\\,\\log(\\boldsymbol{\\alpha}^j) \\sim \\mathcal{N}(\\mu,\\Sigma) \\\\\n",
    "    \\end{eqnarray*} $$\n",
    "\n",
    "4. Endowments are exponentially distributed,\n",
    "\n",
    "$$\n",
    "\\begin{eqnarray*}\n",
    "\\boldsymbol{e}^{j} &=& (e_{1}^{j},e_{2}^{j},e_{3}^{j}) \\\\\n",
    " &  & e_i^j \\sim f, f(z;\\zeta) =  1/\\zeta \\exp(-z/\\zeta)\n",
    "\\end{eqnarray*}\n",
    "$$"
   ]
  },
  {
   "cell_type": "markdown",
   "metadata": {},
   "source": [
    "Let $p_3 = 1$ be the **numeraire**. The implied **demand functions** are:\n",
    "\n",
    "$$\n",
    "\\begin{eqnarray*}\n",
    "x_{i}^{\\star j}(p_{1},p_{2},\\boldsymbol{e}^{j})&=&\\beta^{j}_i\\frac{I^j}{p_{i}} \\\\\n",
    "\\end{eqnarray*}\n",
    "$$\n",
    "\n",
    "where consumer $j$'s income is\n",
    "\n",
    "$$I^j = p_1 e_1^j + p_2 e_2^j +p_3 e_3^j$$"
   ]
  },
  {
   "cell_type": "markdown",
   "metadata": {},
   "source": [
    "The **parameters** and **random preferences and endowments** are given by:"
   ]
  },
  {
   "cell_type": "code",
   "execution_count": 7,
   "metadata": {},
   "outputs": [],
   "source": [
    "# a. parameters\n",
    "N = 50000\n",
    "mu = np.array([3,2,1])\n",
    "Sigma = np.array([[0.25, 0, 0], [0, 0.25, 0], [0, 0, 0.25]])\n",
    "gamma = 0.8\n",
    "zeta = 1\n",
    "\n",
    "# b. random draws\n",
    "seed = 1986\n",
    "np.random.seed(seed)\n",
    "\n",
    "# preferences\n",
    "alphas = np.exp(np.random.multivariate_normal(mu, Sigma, size=N))\n",
    "betas = alphas/np.reshape(np.sum(alphas,axis=1),(N,1))\n",
    "\n",
    "# endowments\n",
    "e1 = np.random.exponential(zeta,size=N)\n",
    "e2 = np.random.exponential(zeta,size=N)\n",
    "e3 = np.random.exponential(zeta,size=N)"
   ]
  },
  {
   "cell_type": "markdown",
   "metadata": {},
   "source": [
    "**Question 1:** Plot the histograms of the budget shares for each good across agents.\n",
    "\n",
    "Consider the **excess demand functions:**\n",
    "\n",
    "$$ z_i(p_1,p_2) = \\sum_{j=1}^N x_{i}^{\\star j}(p_{1},p_{2},\\boldsymbol{e}^{j}) - e_i^j$$\n",
    "\n",
    "**Question 2:** Plot the excess demand functions."
   ]
  },
  {
   "cell_type": "markdown",
   "metadata": {},
   "source": [
    "**Quesiton 3:** Find the Walras-equilibrium prices, $(p_1,p_2)$, where both excess demands are (approximately) zero, e.g. by using the following tâtonnement process:\n",
    "\n",
    "1. Guess on $p_1 > 0$, $p_2 > 0$ and choose tolerance $\\epsilon > 0$ and adjustment aggressivity parameter, $\\kappa > 0$.\n",
    "2. Calculate $z_1(p_1,p_2)$ and $z_2(p_1,p_2)$.\n",
    "3. If $|z_1| < \\epsilon$ and $|z_2| < \\epsilon$ then stop.\n",
    "4. Else set $p_1 = p_1 + \\kappa \\frac{z_1}{N}$ and $p_2 = p_2 + \\kappa \\frac{z_2}{N}$ and return to step 2."
   ]
  },
  {
   "cell_type": "markdown",
   "metadata": {},
   "source": [
    "**Question 4:** Plot the distribution of utility in the Walras-equilibrium and calculate its mean and variance."
   ]
  },
  {
   "cell_type": "markdown",
   "metadata": {},
   "source": [
    "**Question 5:** Find the Walras-equilibrium prices if instead all endowments were distributed equally. Discuss the implied changes in the distribution of utility. Does the value of $\\gamma$ play a role for your conclusions?"
   ]
  }
 ],
 "metadata": {
  "kernelspec": {
   "display_name": "Python 3",
   "language": "python",
   "name": "python3"
  },
  "language_info": {
   "codemirror_mode": {
    "name": "ipython",
    "version": 3
   },
   "file_extension": ".py",
   "mimetype": "text/x-python",
   "name": "python",
   "nbconvert_exporter": "python",
   "pygments_lexer": "ipython3",
   "version": "3.7.1"
  },
  "toc-autonumbering": false
 },
 "nbformat": 4,
 "nbformat_minor": 2
}
