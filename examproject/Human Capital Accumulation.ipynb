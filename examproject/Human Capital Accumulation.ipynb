{
 "cells": [
  {
   "cell_type": "markdown",
   "metadata": {},
   "source": [
    "# Problem 1: Human Capital Accumulation\n",
    "\n",
    "We consider a two period model where a worker maximizes his or her utility and allow for human capital accumulation (e.g. education). \n",
    "\n",
    "Let $t \\in \\{ 1,2\\}$. In each period the worker decides to work $l_t = 1$ or to not work $l_t = 0$. \n",
    "We impose the restriction that the worker cannot save or borrow and thus all of their income is consumed each period. \n",
    "While employed her consumption is given by her work effort, $l_t$, constant wage rate, $w$, and skill level, $h_t$, which can be expressed as,\n",
    "$$ \\begin{align} c_t = wh_t l_t.\\end{align} $$\n",
    "While unemployed the income is given by the unemployment benefits, $b$, and the consumption is given by,\n",
    "$$ \\begin{align} c_t = b. \\end{align} $$\n",
    "The human capital accumulates by $h_2 = h_1 +l_1 + \\begin{cases} 0 \\hspace{0.2cm} \\text{with prob 0.5} \\\\ \\Delta \\hspace{0.2cm} \\text{with prob 0.5}. \\\\\\end{cases} $\n",
    "\n",
    "The worker's maximizes their utility function in period two following,\n",
    "$$ v_2(h_2) = \\underset{l_2}{max} \\frac{c_2^{1-\\rho}}{1-\\rho}-\\gamma l_2   \\hspace{1cm} s.t. \\hspace{0.2cm} c_2 = wh_2l_2,\\hspace{0.2cm} l_2 \\in \\{ 0,1\\}$$\n",
    "$$ v_1(h_1) = \\underset{l_1}{max} \\frac{c_1^{1-\\rho}}{1-\\rho}-\\gamma l_1 + \\beta E_1\\left[ v_2(h_2) \\right]   \\hspace{1cm} s.t. \\hspace{0.2cm} c_2 = wh_1l_1,\\hspace{0.2cm} l_2 \\in \\{ 0,1\\}, \\hspace{0.2cm} h_2 = h_1 +l_1 + \\begin{cases} 0 \\hspace{0.2cm} \\text{with prob 0.5} \\\\ \\Delta \\hspace{0.2cm} \\text{with prob 0.5}, \\\\\\end{cases}$$\n",
    "where $\\beta$ is the discount factor. \n",
    "\n"
   ]
  },
  {
   "cell_type": "markdown",
   "metadata": {},
   "source": [
    "**Question 1: Solve the model in period 2 and illustrate the solution (including labor supply as a\n",
    "function of human capital).** "
   ]
  },
  {
   "cell_type": "markdown",
   "metadata": {},
   "source": [
    "Provided the initial parameter values of the model and the levels of human capital:"
   ]
  },
  {
   "cell_type": "code",
   "execution_count": 280,
   "metadata": {},
   "outputs": [],
   "source": [
    "# Provided Python packages\n",
    "import numpy as n\n",
    "from scipy import interpolate\n",
    "%matplotlib inline\n",
    "import matplotlib.pyplot as plt\n",
    "import ipywidgets as widgets\n",
    "\n",
    "# Parameter values\n",
    "rho = 2\n",
    "beta = 0.96\n",
    "gamma = 0.1\n",
    "w = 2\n",
    "b = 1\n",
    "Delta = 0.1\n",
    "\n",
    "# Levels of human capital\n",
    "h_vec = np.linspace(0.1,1.5,100) "
   ]
  },
  {
   "cell_type": "markdown",
   "metadata": {},
   "source": [
    "We define our basic model fuctions given the information above,"
   ]
  },
  {
   "cell_type": "code",
   "execution_count": 281,
   "metadata": {},
   "outputs": [],
   "source": [
    "# Defining basic functions taking inspiration from Problem set 7 \n",
    "\n",
    "def c(h,l,w,b): # Consumption function based on work or not work\n",
    "    if l == 1:\n",
    "        return  w*h*l # Consumption wehen woking\n",
    "    elif l == 0:\n",
    "        return  b # Consumption being equal to the unemployment benefits\n",
    "\n",
    "def utility(h,l,rho,gamma,w,b): # Utility from consumption and disutility from working\n",
    "    return c(h,l,w,b)**(1-rho)/(1-rho) - gamma*l\n",
    "\n",
    "def v2(h2,l2,rho,gamma,w,b): # Function to maximize in period 2 \n",
    "    return utility(h2,l2,rho,gamma,w,b)\n",
    "\n",
    "def v1(h1,l1,v2_interp,rho,gamma,w,b): # Function to maximize in period 1 given expectations of period 2\n",
    "    \n",
    "    # a. v2 value, if low skill accumulation\n",
    "    h2_low = h1 + l1 \n",
    "    v2_low = v2_interp([h2_low])[0]\n",
    "    \n",
    "    # b. v2 value, if high skill accumulation\n",
    "    h2_high = h1 + l1 + Delta\n",
    "    v2_high = v2_interp([h2_high])[0]\n",
    "    \n",
    "    # c. expected v2 value\n",
    "    v2 = 0.5*v2_low + 0.5*v2_high\n",
    "    \n",
    "    # d. total value\n",
    "    return utility(h1,l1,rho,gamma,w,b) + beta*v2 "
   ]
  },
  {
   "cell_type": "markdown",
   "metadata": {},
   "source": [
    "We define our solution functions,"
   ]
  },
  {
   "cell_type": "code",
   "execution_count": 282,
   "metadata": {},
   "outputs": [],
   "source": [
    "# 1. Defining solution function\n",
    "def solve_period_2(h_vec,rho,gamma,w,b):\n",
    "    \n",
    "    # a. Creating grids\n",
    "    v2_vec =  np.empty(100)\n",
    "    l2_vec = np.empty(100)\n",
    "    v2_vec_unemp = np.empty(100)\n",
    "\n",
    "    # b. loop for each element in capital vector\n",
    "    for i, h2 in enumerate(h_vec):\n",
    "    \n",
    "        # i. utility comparison, selecting labour value and writing to list\n",
    "        if (v2(h2,1,rho,gamma,w,b) > v2(h2,0,rho,gamma,w,b)) == True: \n",
    "            l2_vec[i] = 1\n",
    "        else: # utility when not working\n",
    "            l2_vec[i] = 0\n",
    "            \n",
    "        # ii. feeding into list\n",
    "        v2_vec[i] = v2(h2,l2_vec[i],rho,gamma,w,b)\n",
    "        v2_vec_unemp[i] = utility(h2,0,rho,gamma,w,b)\n",
    "    \n",
    "    return v2_vec, l2_vec, v2_vec_unemp\n",
    "\n",
    "# 2. Solving for utility and labour\n",
    "v2_vec,l2_vec,v2_vec_unemp =  solve_period_2(h_vec,rho,gamma,w,b)"
   ]
  },
  {
   "cell_type": "markdown",
   "metadata": {},
   "source": [
    "Plotting the function of the workers utility given their human capital accumulation gives the following graph."
   ]
  },
  {
   "cell_type": "code",
   "execution_count": 283,
   "metadata": {},
   "outputs": [
    {
     "data": {
      "image/png": "[encoded data removed]",
      "text/plain": [
       "<Figure size 432x288 with 1 Axes>"
      ]
     },
     "metadata": {
      "needs_background": "light"
     },
     "output_type": "display_data"
    },
    {
     "name": "stdout",
     "output_type": "stream",
     "text": [
      "The break is found at h ≥ 0.567\n"
     ]
    }
   ],
   "source": [
    "# Plotting the value of living given skill accumulation\n",
    "fig = plt.figure()\n",
    "ax = fig.add_subplot(1,1,1)\n",
    "ax.plot(h_vec, v2(h_vec,1,rho,gamma,w,b), color = \"blue\")\n",
    "ax.plot(h_vec, v2_vec_unemp, color = \"black\")\n",
    "ax.grid()\n",
    "ax.set_xlabel('Human capital, $h_2$')\n",
    "ax.set_ylabel('Value of living, $v_2$')\n",
    "ax.set_title('Value of living given human capital in period 2')\n",
    "plt.legend(('Working, $l_2=1$','Not working, $l_2=0$'),loc='lower center')\n",
    "plt.show()\n",
    "index = np.where(l2_vec == 1)[0][0];\n",
    "print('The break is found at h ≥ ' + str(round(h_vec[index],3)))"
   ]
  },
  {
   "cell_type": "markdown",
   "metadata": {},
   "source": [
    "From the graph we see that based on the parameter values the worker obtains negative utility regardless of working or not, however they receive less disutility when their skill level is above around 0.567. Next, we plot the labour supply as a function of human capital."
   ]
  },
  {
   "cell_type": "code",
   "execution_count": 284,
   "metadata": {},
   "outputs": [
    {
     "data": {
      "image/png": "[encoded data removed]",
      "text/plain": [
       "<Figure size 432x288 with 1 Axes>"
      ]
     },
     "metadata": {
      "needs_background": "light"
     },
     "output_type": "display_data"
    }
   ],
   "source": [
    "# Plotting labour supply as function of humn capital, period 2\n",
    "fig = plt.figure()\n",
    "ax = fig.add_subplot(1,1,1)\n",
    "ax.plot(h_vec, l2_vec,rho,gamma,w,b)\n",
    "ax.grid()\n",
    "ax.set_xlabel('Human capital, $h_2$')\n",
    "ax.set_ylabel('Labour supply, $l_2$')\n",
    "ax.set_title('Chosen labour based on skill level period 2')\n",
    "plt.show()"
   ]
  },
  {
   "cell_type": "markdown",
   "metadata": {},
   "source": [
    "As shown in the graph if the worker accumulates human capital that exceeds around 0.55 then the worker will choose to work in period 2, as this provides the worker with a higher amount of utility (see the first figure). If the human capital is insufficient, the worker will choose not to work and instead reap the unemployment benefits as the disutiliy from working outweighs the utility of consumption based on wage rate and labour supply. "
   ]
  },
  {
   "cell_type": "markdown",
   "metadata": {},
   "source": [
    "**Question 2: Solve the model in period 1 and illustrate the solution (including labor supply as a\n",
    "function of human capital).**"
   ]
  },
  {
   "cell_type": "markdown",
   "metadata": {},
   "source": [
    "Similar to question one we first define the solution function,"
   ]
  },
  {
   "cell_type": "code",
   "execution_count": 285,
   "metadata": {},
   "outputs": [],
   "source": [
    "# 1. Constructing the interpolator\n",
    "v2_interp = interpolate.RegularGridInterpolator([h_vec],v2_vec,bounds_error=False,fill_value=None)\n",
    "\n",
    "def solve_period_1(h_vec, v2_interp,rho,gamma,w,b):\n",
    "    \n",
    "    # a. Creating grids\n",
    "    v1_vec =  np.empty(100)\n",
    "    l1_vec = np.empty(100)\n",
    "    v1_vec_unemp = np.empty(100)\n",
    "    \n",
    "    # b. loop for each element in capital vector\n",
    "    for i,h1 in enumerate(h_vec): \n",
    "        \n",
    "        # i. utility comparison, selecting labour value and writing to list\n",
    "        if (v1(h1,1,v2_interp,rho,gamma,w,b) > v1(h1,0,v2_interp,rho,gamma,w,b)) == True: \n",
    "            l1_vec[i] = 1\n",
    "        else: # utility when not working\n",
    "            l1_vec[i] = 0\n",
    "            \n",
    "        # ii. feeding into list\n",
    "        v1_vec[i] = v1(h1,l1_vec[i],v2_interp,rho,gamma,w,b)\n",
    "        v1_vec_unemp[i] = utility(h1,0,rho,gamma,w,b)\n",
    "    \n",
    "    return v1_vec, l1_vec, v1_vec_unemp\n",
    "\n",
    "# 2. Solving for utility and labour\n",
    "v1_vec, l1_vec, v1_vec_unemp =  solve_period_1(h_vec, v2_interp,rho,gamma,w,b)"
   ]
  },
  {
   "cell_type": "markdown",
   "metadata": {},
   "source": [
    "Next, we plot the labour supply as a function of human capital."
   ]
  },
  {
   "cell_type": "code",
   "execution_count": 286,
   "metadata": {},
   "outputs": [
    {
     "data": {
      "image/png": "[encoded data removed]",
      "text/plain": [
       "<Figure size 432x288 with 1 Axes>"
      ]
     },
     "metadata": {
      "needs_background": "light"
     },
     "output_type": "display_data"
    }
   ],
   "source": [
    "# Plotting labour supply as function of humn capital, period 1\n",
    "fig = plt.figure()\n",
    "ax = fig.add_subplot(1,1,1)\n",
    "ax.plot(h_vec, l1_vec,rho,gamma,w,b)\n",
    "ax.grid()\n",
    "ax.set_xlabel('Human capital, $h_1$')\n",
    "ax.set_ylabel('Labour supply, $l_1$')\n",
    "ax.set_title('Chosen labour based on skill level period 1')\n",
    "plt.show()"
   ]
  },
  {
   "cell_type": "markdown",
   "metadata": {},
   "source": [
    "We see that the skill level required for to incentivize the worker to work has been lowered to approximately 0.35. Given that the worker has a chance of gaining experience and thus accumulating human capital (as demoninated by $\\Delta$), the second period requires a higher amount of human capital in order for the worker to work. "
   ]
  },
  {
   "cell_type": "markdown",
   "metadata": {},
   "source": [
    "Next, we plot the utility as a function of human capital accumulation."
   ]
  },
  {
   "cell_type": "code",
   "execution_count": 287,
   "metadata": {},
   "outputs": [
    {
     "data": {
      "image/png": "[encoded data removed]",
      "text/plain": [
       "<Figure size 432x288 with 1 Axes>"
      ]
     },
     "metadata": {
      "needs_background": "light"
     },
     "output_type": "display_data"
    },
    {
     "name": "stdout",
     "output_type": "stream",
     "text": [
      "The break is found at h ≥ 0.355\n"
     ]
    }
   ],
   "source": [
    "# Plotting the value of living given skill accumulation\n",
    "fig = plt.figure()\n",
    "ax = fig.add_subplot(1,1,1)\n",
    "ax.plot(h_vec, v1_vec, color = \"blue\")\n",
    "ax.plot(h_vec,v1_vec_unemp, color = 'black')\n",
    "ax.grid()\n",
    "ax.set_xlabel('Human capital, $h_1$')\n",
    "ax.set_ylabel('Value of living, $v_1$')\n",
    "ax.set_title('Value of living given human capital in period 1')\n",
    "plt.legend(('Working, $l_1=1$','Not working, $l_1=0$'),loc='lower center')\n",
    "plt.show()\n",
    "index = np.where(l1_vec == 1)[0][0];\n",
    "print('The break is found at h ≥ ' + str(round(h_vec[index],3)))"
   ]
  },
  {
   "cell_type": "markdown",
   "metadata": {},
   "source": [
    "From the graph we see that the point when the worker wants to work is when the human capital is at a level of $h = 0.355$ or above. \n"
   ]
  },
  {
   "cell_type": "markdown",
   "metadata": {},
   "source": [
    "**Question 3: Will the worker never work if her potential wage income is lower than the\n",
    "unemployment benefits she can get? Explain and illustrate why or why not.**"
   ]
  },
  {
   "cell_type": "markdown",
   "metadata": {},
   "source": [
    "We illustrate the effects of changing the wage rate, $w$, aversion to work, $\\gamma$ and the unemployment benefits, $b$, to the workers value of living in period 1 and period 2. "
   ]
  },
  {
   "cell_type": "code",
   "execution_count": 288,
   "metadata": {},
   "outputs": [
    {
     "data": {
      "application/vnd.jupyter.widget-view+json": {
       "model_id": "ae07becbcd13437f95f6834ceb0e239c",
       "version_major": 2,
       "version_minor": 0
      },
      "text/plain": [
       "interactive(children=(FloatSlider(value=2.0, description='Wage rate', max=5.0, min=0.1), FloatSlider(value=1.0…"
      ]
     },
     "metadata": {},
     "output_type": "display_data"
    }
   ],
   "source": [
    "# Defining function with the three main arguments\n",
    "def int_fig(w,b,gamma):\n",
    "\n",
    "    # 1. Unpacking solutions\n",
    "    v1_vec, l1_vec, v1_vec_unemp =  solve_period_1(h_vec, v2_interp,rho,gamma,w,b)\n",
    "    v2_vec,l2_vec, v2_vec_unemp =  solve_period_2(h_vec,rho,gamma,w,b)\n",
    "\n",
    "    # 2. Creating figure\n",
    "    fig, ((ax1, ax3), (ax2, ax4)) = plt.subplots(nrows=2,  ncols=2, sharex=True, figsize=(14,10))\n",
    "    \n",
    "    # Setting up subfigures\n",
    "    # Value of living period 1\n",
    "    ax1.plot(h_vec,v1_vec_unemp, label='Utility if $l_1=0$', color = 'black')\n",
    "    ax1.plot(h_vec,v1_vec, label='Utility if $l_1=1$', color = 'blue')\n",
    "    ax1.grid()\n",
    "    ax1.legend(loc='lower right')\n",
    "    ax1.set_xlabel('Human capital, $h_1$')\n",
    "    ax1.set_ylabel('Value of living, $v_1$')\n",
    "    ax1.set_title('Value of living period 1');\n",
    "\n",
    "    # Human capital / Labour supply period 1\n",
    "    ax2.plot(h_vec,l1_vec, label='Labor supply')\n",
    "    ax2.grid()\n",
    "    ax2.set_xlabel('Human caital, $h_1$')\n",
    "    ax2.set_ylabel('Labor supply, $l_1$')\n",
    "    ax2.set_title('Labour supply as a function of human capital period 1');\n",
    "    \n",
    "    # Value of living period 2\n",
    "    ax1.plot(h_vec,v2_vec_unemp, label='Utility if $l_2=0$', color = 'black')\n",
    "    ax3.plot(h_vec,v2_vec, label='Utility if $l_2=1$', color = 'blue')\n",
    "    ax3.grid()\n",
    "    ax3.legend(loc='lower right')\n",
    "    ax3.set_xlabel('Human capital, $h_2$')\n",
    "    ax3.set_ylabel('Value of living, $v_2$')\n",
    "    ax3.set_title('Value of living in period 2');\n",
    "\n",
    "    # Human capital / Labour supply period 2\n",
    "    ax4.plot(h_vec,l2_vec, label='Labor supply')\n",
    "    ax4.grid()\n",
    "    ax4.legend(loc='lower right')\n",
    "    ax4.set_xlabel('Human capital, $h_2$')\n",
    "    ax4.set_ylabel('Labor supply, $l_2$')\n",
    "    ax4.set_title('Labour supply as a function of human capital period 2');\n",
    "\n",
    "# 3. Interactive widgets for benefits, wages and work aversion\n",
    "widgets.interact(int_fig,\n",
    "    b = widgets.FloatSlider(\n",
    "                    value=1,\n",
    "                    description='Unemployment benefits', \n",
    "                    min=0.1,\n",
    "                    max=5, \n",
    "                    step=0.1,\n",
    "                    ),\n",
    "    w = widgets.FloatSlider(\n",
    "                    value=2,\n",
    "                    description='Wage rate', \n",
    "                    min=0.1,\n",
    "                    max=5, \n",
    "                    step=0.1,\n",
    "                    ),\n",
    "    gamma = widgets.FloatSlider(\n",
    "                    value=0.1,\n",
    "                    description='Aversion to work', \n",
    "                    min=0,\n",
    "                    max=5, \n",
    "                    step=0.1,\n",
    "                    )\n",
    "); "
   ]
  },
  {
   "cell_type": "markdown",
   "metadata": {},
   "source": [
    "It is possible that the worker has no reason to work in either the first or the second period given that the benefits of not working are high enough. This is also in line with basic economic intuition. Conversely, it is possible that the worker decides to work even though the wages are lower than the benefits given a sufficiently low aversion to work and high enough level of human capital. "
   ]
  },
  {
   "cell_type": "markdown",
   "metadata": {},
   "source": [
    "Overall, there is no definitive answer as it depends on the relative relationship between wages, benefits and the disutility of working."
   ]
  }
 ],
 "metadata": {
  "kernelspec": {
   "display_name": "Python 3",
   "language": "python",
   "name": "python3"
  },
  "language_info": {
   "codemirror_mode": {
    "name": "ipython",
    "version": 3
   },
   "file_extension": ".py",
   "mimetype": "text/x-python",
   "name": "python",
   "nbconvert_exporter": "python",
   "pygments_lexer": "ipython3",
   "version": "3.7.1"
  }
 },
 "nbformat": 4,
 "nbformat_minor": 2
}
