{
 "cells": [
  {
   "cell_type": "code",
   "execution_count": 5,
   "metadata": {},
   "outputs": [],
   "source": [
    "import numpy as np"
   ]
  },
  {
   "cell_type": "markdown",
   "metadata": {},
   "source": [
    "# 1. Human capital accumulation"
   ]
  },
  {
   "cell_type": "markdown",
   "metadata": {},
   "source": [
    "Consider a worker living in **two periods**, $t \\in \\{1,2\\}$. \n",
    "\n",
    "In each period she decides whether to **work ($l_t = 1$) or not ($l_t = 0$)**. \n",
    "\n",
    "She can *not* borrow or save and thus **consumes all of her income** in each period. "
   ]
  },
  {
   "cell_type": "markdown",
   "metadata": {},
   "source": [
    "If she **works** her **consumption** becomes:\n",
    "\n",
    "$$c_t = w h_t l_t\\,\\,\\text{if}\\,\\,l_t=1$$\n",
    "\n",
    "where $w$ is **the wage rate** and $h_t$ is her **human capital**. \n",
    "\n",
    "If she does **not work** her consumption becomes:\n",
    "\n",
    "$$c_t = b\\,\\,\\text{if}\\,\\,l_t=0$$\n",
    "\n",
    "where $b$ is the **unemployment benefits**."
   ]
  },
  {
   "cell_type": "markdown",
   "metadata": {},
   "source": [
    "Her **utility of consumption** is: \n",
    "\n",
    "$$ \\frac{c_t^{1-\\rho}}{1-\\rho} $$\n",
    "\n",
    "Her **disutility of working** is:\n",
    "\n",
    "$$ \\gamma l_t $$"
   ]
  },
  {
   "cell_type": "markdown",
   "metadata": {},
   "source": [
    "From period 1 to period 2, she **accumulates human capital** according to:\n",
    "\n",
    "$$ h_2 = h_1 + l_1 + \n",
    "\\begin{cases}\n",
    "0 & \\text{with prob. }0.5 \\\\\n",
    "\\Delta & \\text{with prob. }0.5 \n",
    "\\end{cases} \\\\\n",
    "$$\n",
    "\n",
    "where $\\Delta$ is a **stochastic experience gain**."
   ]
  },
  {
   "cell_type": "markdown",
   "metadata": {},
   "source": [
    "In the **second period** the worker thus solves:\n",
    "\n",
    "$$\n",
    "\\begin{eqnarray*}\n",
    "v_{2}(h_{2}) & = &\\max_{l_{2}} \\frac{c_2^{1-\\rho}}{1-\\rho} - \\gamma l_2\n",
    "\\\\ & \\text{s.t.} & \\\\\n",
    "c_{2}& = & \\begin{cases}\n",
    "w h_2 & \n",
    "\\text{if }l_2 = 1  \\\\\n",
    "b & \\text{if }l_2 = 0 \n",
    "\\end{cases} \\\\\n",
    "l_{2}& \\in &\\{0,1\\}\n",
    "\\end{eqnarray*}\n",
    "$$"
   ]
  },
  {
   "cell_type": "markdown",
   "metadata": {},
   "source": [
    "In the **first period** the worker thus solves:\n",
    "\n",
    "$$\n",
    "\\begin{eqnarray*}\n",
    "v_{1}(h_{1}) &=& \\max_{l_{1}} \\frac{c_1^{1-\\rho}}{1-\\rho} - \\gamma l_1 + \\beta\\mathbb{E}_{1}\\left[v_2(h_2)\\right]\n",
    "\\\\ & \\text{s.t.} & \\\\\n",
    "c_{1}& = & \\begin{cases}\n",
    "w h_1 & \n",
    "\\text{if }l_1 = 1  \\\\\n",
    "b & \\text{if }l_1 = 0 \n",
    "\\end{cases} \\\\\n",
    "h_2 &=& h_1 + l_1 + \\begin{cases}\n",
    "0 & \\text{with prob. }0.5\\\\\n",
    "\\Delta & \\text{with prob. }0.5 \n",
    "\\end{cases}\\\\\n",
    "l_{1} &\\in& \\{0,1\\}\\\\\n",
    "\\end{eqnarray*}\n",
    "$$\n",
    "\n",
    "where $\\beta$ is the **discount factor** and $\\mathbb{E}_{1}\\left[v_2(h_2)\\right]$ is the **expected value of living in period two**."
   ]
  },
  {
   "cell_type": "markdown",
   "metadata": {},
   "source": [
    "The **parameters** of the model are:"
   ]
  },
  {
   "cell_type": "code",
   "execution_count": 6,
   "metadata": {},
   "outputs": [],
   "source": [
    "rho = 2\n",
    "beta = 0.96\n",
    "gamma = 0.1\n",
    "w = 2\n",
    "b = 1\n",
    "Delta = 0.1"
   ]
  },
  {
   "cell_type": "markdown",
   "metadata": {},
   "source": [
    "The **relevant levels of human capital** are:"
   ]
  },
  {
   "cell_type": "code",
   "execution_count": 7,
   "metadata": {},
   "outputs": [],
   "source": [
    "h_vec = np.linspace(0.1,1.5,100) "
   ]
  },
  {
   "cell_type": "markdown",
   "metadata": {},
   "source": [
    "**Question 1:** Solve the model in period 2 and illustrate the solution (including labor supply as a function of human capital). "
   ]
  },
  {
   "cell_type": "markdown",
   "metadata": {},
   "source": [
    "We import the needed packages and provided the initial parameter values of the model and the levels of human capital, we define our basic model fuctions,"
   ]
  },
  {
   "cell_type": "code",
   "execution_count": 8,
   "metadata": {},
   "outputs": [],
   "source": [
    "# Importing additional Python packages\n",
    "from scipy import interpolate\n",
    "%matplotlib inline\n",
    "import matplotlib.pyplot as plt\n",
    "import ipywidgets as widgets"
   ]
  },
  {
   "cell_type": "code",
   "execution_count": 9,
   "metadata": {},
   "outputs": [],
   "source": [
    "# Defining basic functions taking inspiration from Problem set 7 \n",
    "\n",
    "def c(h,l,w,b): # Consumption function based on work or not work\n",
    "    if l == 1:\n",
    "        return  w*h*l # Consumption wehen woking\n",
    "    elif l == 0:\n",
    "        return  b # Consumption being equal to the unemployment benefits\n",
    "\n",
    "def utility(h,l,rho,gamma,w,b): # Utility from consumption and disutility from working\n",
    "    return c(h,l,w,b)**(1-rho)/(1-rho) - gamma*l\n",
    "\n",
    "def v2(h2,l2,rho,gamma,w,b): # Function to maximize in period 2 \n",
    "    return utility(h2,l2,rho,gamma,w,b)\n",
    "\n",
    "def v1(h1,l1,v2_interp,rho,gamma,w,b): # Function to maximize in period 1 given expectations of period 2\n",
    "    \n",
    "    # a. v2 value, if low skill accumulation\n",
    "    h2_low = h1 + l1 \n",
    "    v2_low = v2_interp([h2_low])[0]\n",
    "    \n",
    "    # b. v2 value, if high skill accumulation\n",
    "    h2_high = h1 + l1 + Delta\n",
    "    v2_high = v2_interp([h2_high])[0]\n",
    "    \n",
    "    # c. expected v2 value\n",
    "    v2 = 0.5*v2_low + 0.5*v2_high\n",
    "    \n",
    "    # d. total value\n",
    "    return utility(h1,l1,rho,gamma,w,b) + beta*v2 "
   ]
  },
  {
   "cell_type": "markdown",
   "metadata": {},
   "source": [
    "We define our solution functions,"
   ]
  },
  {
   "cell_type": "code",
   "execution_count": 10,
   "metadata": {},
   "outputs": [],
   "source": [
    "# 1. Defining solution function\n",
    "def solve_period_2(h_vec,rho,gamma,w,b):\n",
    "    \n",
    "    # a. Creating grids\n",
    "    v2_vec =  np.empty(100)\n",
    "    l2_vec = np.empty(100)\n",
    "    v2_vec_unemp = np.empty(100)\n",
    "\n",
    "    # b. loop for each element in capital vector\n",
    "    for i, h2 in enumerate(h_vec):\n",
    "    \n",
    "        # i. utility comparison, selecting labour value and writing to list\n",
    "        if (v2(h2,1,rho,gamma,w,b) > v2(h2,0,rho,gamma,w,b)) == True: \n",
    "            l2_vec[i] = 1\n",
    "        else: # utility when not working\n",
    "            l2_vec[i] = 0\n",
    "            \n",
    "        # ii. feeding into list\n",
    "        v2_vec[i] = v2(h2,l2_vec[i],rho,gamma,w,b)\n",
    "        v2_vec_unemp[i] = utility(h2,0,rho,gamma,w,b)\n",
    "    \n",
    "    return v2_vec, l2_vec, v2_vec_unemp\n",
    "\n",
    "# 2. Solving for utility and labour\n",
    "v2_vec,l2_vec,v2_vec_unemp =  solve_period_2(h_vec,rho,gamma,w,b)"
   ]
  },
  {
   "cell_type": "markdown",
   "metadata": {},
   "source": [
    "Plotting the function of the workers utility given their human capital accumulation gives the following graph."
   ]
  },
  {
   "cell_type": "code",
   "execution_count": 11,
   "metadata": {},
   "outputs": [
    {
     "data": {
      "image/png": "[encoded data removed]",
      "text/plain": [
       "<Figure size 432x288 with 1 Axes>"
      ]
     },
     "metadata": {
      "needs_background": "light"
     },
     "output_type": "display_data"
    },
    {
     "name": "stdout",
     "output_type": "stream",
     "text": [
      "The break is found at h ≥ 0.567\n"
     ]
    }
   ],
   "source": [
    "# Plotting the value of living given skill accumulation\n",
    "fig = plt.figure()\n",
    "ax = fig.add_subplot(1,1,1)\n",
    "ax.plot(h_vec, v2(h_vec,1,rho,gamma,w,b), color = \"blue\")\n",
    "ax.plot(h_vec, v2_vec_unemp, color = \"black\")\n",
    "ax.grid()\n",
    "ax.set_xlabel('Human capital, $h_2$')\n",
    "ax.set_ylabel('Value of living, $v_2$')\n",
    "ax.set_title('Value of living given human capital in period 2')\n",
    "plt.legend(('Working, $l_2=1$','Not working, $l_2=0$'),loc='lower center')\n",
    "plt.show()\n",
    "index = np.where(l2_vec == 1)[0][0];\n",
    "print('The break is found at h ≥ ' + str(round(h_vec[index],3)))"
   ]
  },
  {
   "cell_type": "markdown",
   "metadata": {},
   "source": [
    "From the graph we see that based on the parameter values the worker obtains negative utility regardless of working or not, however they receive less disutility when their skill level is above around 0.567. Next, we plot the labour supply as a function of human capital."
   ]
  },
  {
   "cell_type": "code",
   "execution_count": 12,
   "metadata": {},
   "outputs": [
    {
     "data": {
      "image/png": "[encoded data removed]",
      "text/plain": [
       "<Figure size 432x288 with 1 Axes>"
      ]
     },
     "metadata": {
      "needs_background": "light"
     },
     "output_type": "display_data"
    }
   ],
   "source": [
    "# Plotting labour supply as function of humn capital, period 2\n",
    "fig = plt.figure()\n",
    "ax = fig.add_subplot(1,1,1)\n",
    "ax.plot(h_vec, l2_vec,rho,gamma,w,b)\n",
    "ax.grid()\n",
    "ax.set_xlabel('Human capital, $h_2$')\n",
    "ax.set_ylabel('Labour supply, $l_2$')\n",
    "ax.set_title('Chosen labour based on skill level period 2')\n",
    "plt.show()"
   ]
  },
  {
   "cell_type": "markdown",
   "metadata": {},
   "source": [
    "As shown in the graph if the worker accumulates human capital that exceeds around 0.55 then the worker will choose to work in period 2, as this provides the worker with a higher amount of utility (see the first figure). If the human capital is insufficient, the worker will choose not to work and instead reap the unemployment benefits as the disutiliy from working outweighs the utility of consumption based on wage rate and labour supply. "
   ]
  },
  {
   "cell_type": "markdown",
   "metadata": {},
   "source": [
    "**Question 2:** Solve the model in period 1 and illustrate the solution (including labor supply as a function of human capital). "
   ]
  },
  {
   "cell_type": "markdown",
   "metadata": {},
   "source": [
    "Similar to question one we first define the solution function,"
   ]
  },
  {
   "cell_type": "code",
   "execution_count": 14,
   "metadata": {},
   "outputs": [],
   "source": [
    "# 1. Constructing the interpolator\n",
    "v2_interp = interpolate.RegularGridInterpolator([h_vec],v2_vec,bounds_error=False,fill_value=None)\n",
    "\n",
    "def solve_period_1(h_vec, v2_interp,rho,gamma,w,b):\n",
    "    \n",
    "    # a. Creating grids\n",
    "    v1_vec =  np.empty(100)\n",
    "    l1_vec = np.empty(100)\n",
    "    v1_vec_unemp = np.empty(100)\n",
    "    \n",
    "    # b. loop for each element in capital vector\n",
    "    for i,h1 in enumerate(h_vec): \n",
    "        \n",
    "        # i. utility comparison, selecting labour value and writing to list\n",
    "        if (v1(h1,1,v2_interp,rho,gamma,w,b) > v1(h1,0,v2_interp,rho,gamma,w,b)) == True: \n",
    "            l1_vec[i] = 1\n",
    "        else: # utility when not working\n",
    "            l1_vec[i] = 0\n",
    "            \n",
    "        # ii. feeding into list\n",
    "        v1_vec[i] = v1(h1,l1_vec[i],v2_interp,rho,gamma,w,b)\n",
    "        v1_vec_unemp[i] = utility(h1,0,rho,gamma,w,b)\n",
    "    \n",
    "    return v1_vec, l1_vec, v1_vec_unemp\n",
    "\n",
    "# 2. Solving for utility and labour\n",
    "v1_vec, l1_vec, v1_vec_unemp =  solve_period_1(h_vec, v2_interp,rho,gamma,w,b)"
   ]
  },
  {
   "cell_type": "markdown",
   "metadata": {},
   "source": [
    "Next, we plot the labour supply as a function of human capital."
   ]
  },
  {
   "cell_type": "code",
   "execution_count": 16,
   "metadata": {},
   "outputs": [
    {
     "data": {
      "image/png": "[encoded data removed]",
      "text/plain": [
       "<Figure size 432x288 with 1 Axes>"
      ]
     },
     "metadata": {
      "needs_background": "light"
     },
     "output_type": "display_data"
    }
   ],
   "source": [
    "# Plotting labour supply as function of humn capital, period 1\n",
    "fig = plt.figure()\n",
    "ax = fig.add_subplot(1,1,1)\n",
    "ax.plot(h_vec, l1_vec,rho,gamma,w,b)\n",
    "ax.grid()\n",
    "ax.set_xlabel('Human capital, $h_1$')\n",
    "ax.set_ylabel('Labour supply, $l_1$')\n",
    "ax.set_title('Chosen labour based on skill level period 1')\n",
    "plt.show()"
   ]
  },
  {
   "cell_type": "markdown",
   "metadata": {},
   "source": [
    "We see that the skill level required for to incentivize the worker to work has been lowered to approximately 0.35. Given that the worker has a chance of gaining experience and thus accumulating human capital (as demoninated by $\\Delta$), the second period requires a higher amount of human capital in order for the worker to work. "
   ]
  },
  {
   "cell_type": "markdown",
   "metadata": {},
   "source": [
    "Next, we plot the utility as a function of human capital accumulation."
   ]
  },
  {
   "cell_type": "code",
   "execution_count": 17,
   "metadata": {},
   "outputs": [
    {
     "data": {
      "image/png": "[encoded data removed]",
      "text/plain": [
       "<Figure size 432x288 with 1 Axes>"
      ]
     },
     "metadata": {
      "needs_background": "light"
     },
     "output_type": "display_data"
    },
    {
     "name": "stdout",
     "output_type": "stream",
     "text": [
      "The break is found at h ≥ 0.355\n"
     ]
    }
   ],
   "source": [
    "# Plotting the value of living given skill accumulation\n",
    "fig = plt.figure()\n",
    "ax = fig.add_subplot(1,1,1)\n",
    "ax.plot(h_vec, v1_vec, color = \"blue\")\n",
    "ax.plot(h_vec,v1_vec_unemp, color = 'black')\n",
    "ax.grid()\n",
    "ax.set_xlabel('Human capital, $h_1$')\n",
    "ax.set_ylabel('Value of living, $v_1$')\n",
    "ax.set_title('Value of living given human capital in period 1')\n",
    "plt.legend(('Working, $l_1=1$','Not working, $l_1=0$'),loc='lower center')\n",
    "plt.show()\n",
    "index = np.where(l1_vec == 1)[0][0];\n",
    "print('The break is found at h ≥ ' + str(round(h_vec[index],3)))"
   ]
  },
  {
   "cell_type": "markdown",
   "metadata": {},
   "source": [
    "From the graph we see that the point when the worker wants to work is when the human capital is at a level of $h = 0.355$ or above. \n"
   ]
  },
  {
   "cell_type": "markdown",
   "metadata": {},
   "source": [
    "**Question 3:** Will the worker never work if her potential wage income is lower than the unemployment benefits she can get? Explain and illustrate why or why not."
   ]
  },
  {
   "cell_type": "markdown",
   "metadata": {},
   "source": [
    "We illustrate the effects of changing the wage rate, $w$, aversion to work, $\\gamma$ and the unemployment benefits, $b$, to the workers value of living in period 1 and period 2. "
   ]
  },
  {
   "cell_type": "code",
   "execution_count": 18,
   "metadata": {},
   "outputs": [
    {
     "data": {
      "application/vnd.jupyter.widget-view+json": {
       "model_id": "3d91dad93481478ea603b72bac9fb7be",
       "version_major": 2,
       "version_minor": 0
      },
      "text/plain": [
       "interactive(children=(FloatSlider(value=2.0, description='Wage rate', max=5.0, min=0.1), FloatSlider(value=1.0…"
      ]
     },
     "metadata": {},
     "output_type": "display_data"
    }
   ],
   "source": [
    "# Defining function with the three main arguments\n",
    "def int_fig(w,b,gamma):\n",
    "\n",
    "    # 1. Unpacking solutions\n",
    "    v1_vec, l1_vec, v1_vec_unemp =  solve_period_1(h_vec, v2_interp,rho,gamma,w,b)\n",
    "    v2_vec,l2_vec, v2_vec_unemp =  solve_period_2(h_vec,rho,gamma,w,b)\n",
    "\n",
    "    # 2. Creating figure\n",
    "    fig, ((ax1, ax3), (ax2, ax4)) = plt.subplots(nrows=2,  ncols=2, sharex=True, figsize=(14,10))\n",
    "    \n",
    "    # Setting up subfigures\n",
    "    # Value of living period 1\n",
    "    ax1.plot(h_vec,v1_vec_unemp, label='Utility if $l_1=0$', color = 'black')\n",
    "    ax1.plot(h_vec,v1_vec, label='Utility if $l_1=1$', color = 'blue')\n",
    "    ax1.grid()\n",
    "    ax1.legend(loc='lower right')\n",
    "    ax1.set_xlabel('Human capital, $h_1$')\n",
    "    ax1.set_ylabel('Value of living, $v_1$')\n",
    "    ax1.set_title('Value of living period 1');\n",
    "\n",
    "    # Human capital / Labour supply period 1\n",
    "    ax2.plot(h_vec,l1_vec, label='Labor supply')\n",
    "    ax2.grid()\n",
    "    ax2.set_xlabel('Human caital, $h_1$')\n",
    "    ax2.set_ylabel('Labor supply, $l_1$')\n",
    "    ax2.set_title('Labour supply as a function of human capital period 1');\n",
    "    \n",
    "    # Value of living period 2\n",
    "    ax1.plot(h_vec,v2_vec_unemp, label='Utility if $l_2=0$', color = 'black')\n",
    "    ax3.plot(h_vec,v2_vec, label='Utility if $l_2=1$', color = 'blue')\n",
    "    ax3.grid()\n",
    "    ax3.legend(loc='lower right')\n",
    "    ax3.set_xlabel('Human capital, $h_2$')\n",
    "    ax3.set_ylabel('Value of living, $v_2$')\n",
    "    ax3.set_title('Value of living in period 2');\n",
    "\n",
    "    # Human capital / Labour supply period 2\n",
    "    ax4.plot(h_vec,l2_vec, label='Labor supply')\n",
    "    ax4.grid()\n",
    "    ax4.legend(loc='lower right')\n",
    "    ax4.set_xlabel('Human capital, $h_2$')\n",
    "    ax4.set_ylabel('Labor supply, $l_2$')\n",
    "    ax4.set_title('Labour supply as a function of human capital period 2');\n",
    "\n",
    "# 3. Interactive widgets for benefits, wages and work aversion\n",
    "widgets.interact(int_fig,\n",
    "    b = widgets.FloatSlider(\n",
    "                    value=1,\n",
    "                    description='Unemployment benefits', \n",
    "                    min=0.1,\n",
    "                    max=5, \n",
    "                    step=0.1,\n",
    "                    ),\n",
    "    w = widgets.FloatSlider(\n",
    "                    value=2,\n",
    "                    description='Wage rate', \n",
    "                    min=0.1,\n",
    "                    max=5, \n",
    "                    step=0.1,\n",
    "                    ),\n",
    "    gamma = widgets.FloatSlider(\n",
    "                    value=0.1,\n",
    "                    description='Aversion to work', \n",
    "                    min=0,\n",
    "                    max=5, \n",
    "                    step=0.1,\n",
    "                    )\n",
    "); "
   ]
  },
  {
   "cell_type": "markdown",
   "metadata": {},
   "source": [
    "It is possible that the worker has no reason to work in either the first or the second period given that the benefits of not working are high enough. This is also in line with basic economic intuition. Conversely, it is possible that the worker decides to work even though the wages are lower than the benefits given a sufficiently low aversion to work and high enough level of human capital. "
   ]
  },
  {
   "cell_type": "markdown",
   "metadata": {},
   "source": [
    "Overall, there is no definitive answer as it depends on the relative relationship between wages, benefits and the disutility of working."
   ]
  },
  {
   "cell_type": "markdown",
   "metadata": {},
   "source": [
    "# 2. AS-AD model"
   ]
  },
  {
   "cell_type": "markdown",
   "metadata": {},
   "source": [
    "Consider the following **AS-AD model**. The **goods market equilibrium** is given by\n",
    "\n",
    "$$ y_{t} = -\\alpha r_{t} + v_{t} $$\n",
    "\n",
    "where $y_{t}$ is the **output gap**, $r_{t}$ is the **ex ante real interest** and $v_{t}$ is a **demand disturbance**. "
   ]
  },
  {
   "cell_type": "markdown",
   "metadata": {},
   "source": [
    "The central bank's **Taylor rule** is\n",
    "\n",
    "$$ i_{t} = \\pi_{t+1}^{e} + h \\pi_{t} + b y_{t}$$\n",
    "\n",
    "where $i_{t}$ is the **nominal interest rate**, $\\pi_{t}$ is the **inflation gap**, and $\\pi_{t+1}^{e}$ is the **expected inflation gap**. "
   ]
  },
  {
   "cell_type": "markdown",
   "metadata": {},
   "source": [
    "The **ex ante real interest rate** is given by \n",
    "\n",
    "$$ r_{t} = i_{t} - \\pi_{t+1}^{e} $$"
   ]
  },
  {
   "cell_type": "markdown",
   "metadata": {},
   "source": [
    "Together, the above implies that the **AD-curve** is\n",
    "\n",
    "$$ \\pi_{t} = \\frac{1}{h\\alpha}\\left[v_{t} - (1+b\\alpha)y_{t}\\right]$$"
   ]
  },
  {
   "cell_type": "markdown",
   "metadata": {},
   "source": [
    "Further, assume that the **short-run supply curve (SRAS)** is given by\n",
    "\n",
    "$$ \\pi_{t} = \\pi_{t}^{e} + \\gamma y_{t} + s_{t}$$\n",
    "\n",
    "where $s_t$ is a **supply disturbance**."
   ]
  },
  {
   "cell_type": "markdown",
   "metadata": {},
   "source": [
    "**Inflation expectations are adaptive** and given by\n",
    "\n",
    "$$ \\pi_{t}^{e} = \\phi\\pi_{t-1}^{e} + (1-\\phi)\\pi_{t-1}$$"
   ]
  },
  {
   "cell_type": "markdown",
   "metadata": {},
   "source": [
    "Together, this implies that the **SRAS-curve** can also be written as\n",
    "\n",
    "$$ \\pi_{t} = \\pi_{t-1} + \\gamma y_{t} - \\phi\\gamma y_{t-1} + s_{t} - \\phi s_{t-1} $$"
   ]
  },
  {
   "cell_type": "markdown",
   "metadata": {},
   "source": [
    "The **parameters** of the model are:"
   ]
  },
  {
   "cell_type": "code",
   "execution_count": 4,
   "metadata": {},
   "outputs": [],
   "source": [
    "import sympy as sm\n",
    "sm.init_printing(use_unicode=True)\n",
    "import numpy as np\n",
    "from scipy import linalg\n",
    "from scipy import optimize\n",
    "import sympy as sm\n",
    "import matplotlib.pyplot as plt\n",
    "sm.init_printing(use_unicode=True)\n",
    "\n",
    "\n",
    "par = {}\n",
    "\n",
    "par['alpha'] = 5.76\n",
    "par['h'] = 0.5\n",
    "par['b'] = 0.5\n",
    "par['phi'] = 0\n",
    "par['gamma'] = 0.075\n",
    "par['delta'] = 0.80\n",
    "par['omega'] = 0.15\n",
    "par['stoc_x'] = 3.492\n",
    "par['stoc_c'] = 0.2\n",
    "\n",
    "delta = par['delta']\n",
    "omega = par['omega']\n",
    "\n",
    "pi = sm.symbols(\"pi_t\")\n",
    "pi_minus1 = sm.symbols(\"pi_t-1\")\n",
    "alpha = sm.symbols(\"alpha\")\n",
    "gamma = sm.symbols(\"gamma\")\n",
    "phi = sm.symbols(\"phi\")\n",
    "h = sm.symbols(\"h\")\n",
    "b = sm.symbols(\"b\")\n",
    "v = sm.symbols(\"v_t\")\n",
    "y = sm.symbols(\"y_t\")\n",
    "y_minus1 = sm.symbols(\"y_t-1\")\n",
    "s= sm.symbols(\"s_t\")\n",
    "s_minus1 = sm.symbols(\"s_t-1\")\n",
    "x = sm.symbols(\"x\")\n",
    "c = sm.symbols(\"c\")"
   ]
  },
  {
   "cell_type": "markdown",
   "metadata": {},
   "source": [
    "**Question 1:** Use the ``sympy`` module to solve for the equilibrium values of output, $y_t$, and inflation, $\\pi_t$, (where AD = SRAS) given the parameters ($\\alpha$, $h$, $b$, $\\alpha$, $\\gamma$) and $y_{t-1}$ , $\\pi_{t-1}$, $v_t$, $s_t$, and $s_{t-1}$."
   ]
  },
  {
   "cell_type": "code",
   "execution_count": null,
   "metadata": {},
   "outputs": [],
   "source": [
    "#Question 1:\n",
    "\n",
    "# a. We define the AD-curve as given in the introduction\n",
    "AD = 1/(h*alpha)*(v-(1+b*alpha)*y) \n",
    "\n",
    "# b. We define the SRAS-curve as given in the introduction\n",
    "SRAS = pi_minus1 + gamma*y - phi*gamma*y_minus1 + s - phi*s_minus1\n",
    "\n",
    "# c. We set AD and SRAS equal to eachother. \n",
    "AD_equal_SRAS = sm.Eq(SRAS,AD)\n",
    "\n",
    "# d. We calulate the steady-state value of the output in the model: \n",
    "steady_state_y = sm.solve(AD_equal_SRAS,y)\n",
    "\n",
    "print(\"The optimal choice\", y, \"is:\", steady_state_y)"
   ]
  },
  {
   "cell_type": "code",
   "execution_count": null,
   "metadata": {},
   "outputs": [],
   "source": [
    "# e. Since we now know the steady-state value for output, we can use this to find steady-state for inflation:\n",
    "steady_state_pi = 1/(h*alpha)*(v-(1+b*alpha)*steady_state_y[0]) \n",
    "\n",
    "print(\"The optimal choice\", pi, \"is:\", steady_state_pi)"
   ]
  },
  {
   "cell_type": "markdown",
   "metadata": {},
   "source": [
    "**Question 2:** Find and illustrate the equilibrium when $y_{t-1} = \\pi_{t-1} = v_t = s_t = s_{t-1} = 0$. Illustrate how the equilibrium changes when instead $v_t = 0.1$."
   ]
  },
  {
   "cell_type": "code",
   "execution_count": null,
   "metadata": {},
   "outputs": [],
   "source": [
    "#Question 2:\n",
    "\n",
    "#a. We define the numerical solutions for y and pi. \n",
    "y_numerical_solution = sm.lambdify((v,alpha,b,gamma,h,phi,y_minus1,pi_minus1,s,s_minus1),steady_state_y[0])\n",
    "pi_numerical_solution = sm.lambdify((v,alpha,b,gamma,h,phi,y_minus1,pi_minus1,s,s_minus1), steady_state_pi)\n",
    "\n",
    "\n",
    "def y_solution_scenario1(v,y_minus1,pi_minus1,s,s_minus1):\n",
    "    return y_numerical_solution(v,par['alpha'],par['b'],par['gamma'],par['h'],par['phi'],y_minus1,pi_minus1,s,s_minus1)\n",
    "\n",
    "def pi_solution_scenario1(v,y_minus1,pi_minus1,s,s_minus1):\n",
    "    return pi_numerical_solution(v,par['alpha'],par['b'],par['gamma'],par['h'],par['phi'],y_minus1,pi_minus1,s,s_minus1)\n",
    "\n",
    "\n",
    "print(\"The optimal solution for output (y) in the scenario where the parameter values are set to 0, is:\", y_solution_scenario1(v=0,y_minus1=0,pi_minus1=0,s=0,s_minus1=0))\n",
    "print(\"The optimal solution for inflation (pi) in the scenario where the parameter values are set to 0, is:\", pi_solution_scenario1(v=0,y_minus1=0,pi_minus1=0,s=0,s_minus1=0))"
   ]
  },
  {
   "cell_type": "code",
   "execution_count": null,
   "metadata": {},
   "outputs": [],
   "source": [
    "#In the case for v = 0.1:\n",
    "print(\"The optimal solution for output (y) in the scenario where the parameter values are set to 0, except v = 0.1, is:\", y_solution_scenario1(v=0.1,y_minus1=0,pi_minus1=0,s=0,s_minus1=0))\n",
    "print(\"The optimal solution for inflation (pi) in the scenario where the parameter values are set to 0, except v = 0.1, is:\", pi_solution_scenario1(v=0.1,y_minus1=0,pi_minus1=0,s=0,s_minus1=0))"
   ]
  },
  {
   "cell_type": "markdown",
   "metadata": {},
   "source": [
    "For the sake of illusatration, we can show how this looks by defining the functions numerically: "
   ]
  },
  {
   "cell_type": "code",
   "execution_count": null,
   "metadata": {},
   "outputs": [],
   "source": [
    "def AD_numerical_function(v,y):\n",
    "    return 1/(par['h']*par['alpha'])*(v-(1+par['b']*par['alpha'])*y)\n",
    "\n",
    "def SRAS_numerical_function(pi_minus1,s,s_minus1,y): \n",
    "    return pi_minus1 + par['gamma']*y-par['phi']*par['gamma']*y_minus1+s-par['phi']*s_minus1\n",
    "\n",
    "#We define parameter values\n",
    "pi_minus1 = 0 \n",
    "s = 0 \n",
    "s_minus1 = 0 \n",
    "v = 0 \n",
    "v_shock = 0.1\n",
    "y = np.linspace(-0.5,0.5,100)\n",
    "\n",
    "#We then define the functions we wish to show graphically:\n",
    "AD_num_func = AD_numerical_function(v,y)\n",
    "AD_with_shock = AD_numerical_function(v_shock,y)\n",
    "SRAS_num_func = SRAS_numerical_function(pi_minus1,s,s_minus1,y)\n",
    "\n",
    "#We can now create the plot and show the relationship between the three functions:\n",
    "fig = plt.figure()\n",
    "plt.axes()\n",
    "ax = fig.add_subplot(111)\n",
    "ax.plot(y, AD_num_func)\n",
    "ax.plot(y, AD_with_shock)\n",
    "ax.plot(y, SRAS_num_func)\n",
    "ax.set_xlabel(\"output gap, $y_t$\")\n",
    "ax.set_ylabel(\"inflation gap, $pi_t$\")\n",
    "ax.set_title (\"AS-AD model with positive demand shock\")\n",
    "ax.grid()\n",
    "plt.legend((\"AD-equilibrium\",\"AD-demand shock\",\"SRAS-equilibrium\"))\n"
   ]
  },
  {
   "cell_type": "markdown",
   "metadata": {},
   "source": [
    "**Persistent disturbances:** Now, additionaly, assume that both the demand and the supply disturbances are AR(1) processes\n",
    "\n",
    "$$ v_{t} = \\delta v_{t-1} + x_{t} $$\n",
    "$$ s_{t} = \\omega s_{t-1} + c_{t} $$\n",
    "\n",
    "where $x_{t}$ is a **demand shock**, and $c_t$ is a **supply shock**. \n",
    "\n",
    "We start off by defining the autoregressive processes:"
   ]
  },
  {
   "cell_type": "code",
   "execution_count": 5,
   "metadata": {},
   "outputs": [],
   "source": [
    "#Question 3:\n",
    "\n",
    "#We define the autoregressive processes as functions:\n",
    "def v_autoregressive(v_minus1,x):\n",
    "    return par['delta']*v_minus1+x\n",
    "\n",
    "def s_autoregressive(s_minus1,c):\n",
    "    return par['omega']*s_minus1+c\n",
    "\n",
    "# We then set the initial values:\n",
    "T = 250\n",
    "pi_vector = [0]\n",
    "y_vector = [0]\n",
    "s_vector = [0]\n",
    "v_vector = [0]\n",
    "c_vector = np.zeros(T)\n",
    "x_vector = np.zeros(T)\n",
    "x_vector[1] = 0.1\n",
    "\n",
    "# We then start the simulation, and make sure that for each value in a period t, is appended to the vector list defined above:\n",
    "for t in range(1,T):\n",
    "    s_vector.append(s_autoregressive(s_vector[t-1],c_vector[t])) # We make sure the different autoregressive values are appeneded to the s_vector\n",
    "    v_vector.append(v_autoregressive(v_vector[t-1],x_vector[t])) # We make sure the different autoregressive values are appeneded to the v_vector\n",
    "    \n",
    "    y_vector.append(y_solution_scenario1(v_vector[t],y_vector[t-1],pi_vector[t-1],s_vector[t],s_vector[t-1])) # We appened to output\n",
    "    pi_vector.append(pi_solution_scenario1(v_vector[t],y_vector[t-1],pi_vector[t-1],s_vector[t],s_vector[t-1])) #We appened to inflation\n",
    "    "
   ]
  },
  {
   "cell_type": "markdown",
   "metadata": {},
   "source": [
    "**Question 3:** Starting from $y_{-1} = \\pi_{-1} = s_{-1} = 0$, how does the economy evolve for $x_0 = 0.1$, $x_t = 0, \\forall t > 0$ and $c_t = 0, \\forall t \\geq 0$?"
   ]
  },
  {
   "cell_type": "code",
   "execution_count": 5,
   "metadata": {},
   "outputs": [],
   "source": [
    "#We then build the plot:\n",
    "timeline = np.linspace(1,T,T)\n",
    "\n",
    "figure_time = plt.figure()\n",
    "plt.axes()\n",
    "ax = figure_time.add_subplot(111)\n",
    "ax.plot(timeline, y_vector)\n",
    "ax.plot(timeline, pi_vector)\n",
    "ax.set_xlabel(\"time\")\n",
    "ax.set_ylabel(\"inflation- and output gap\")\n",
    "ax.set_title(\"How the economy evolves after shock, $v_t=0.1$, happens\")\n",
    "ax.grid()\n",
    "plt.legend(\"Inflation\", \"Output\")"
   ]
  },
  {
   "cell_type": "markdown",
   "metadata": {},
   "source": [
    "**Stochastic shocks:** Now, additionally, assume that $x_t$ and $c_t$ are stochastic and normally distributed\n",
    "\n",
    "$$ x_{t}\\sim\\mathcal{N}(0,\\sigma_{x}^{2}) $$\n",
    "$$ c_{t}\\sim\\mathcal{N}(0,\\sigma_{c}^{2}) $$\n",
    "\n",
    "Due to an issue with having defined many of the lagged variables as \"sm.symbols(x_t-1)\", we redefine the symbols as well as many of the functions from before:\n"
   ]
  },
  {
   "cell_type": "markdown",
   "metadata": {},
   "source": [
    "**Question 4:** Simulate the AS-AD model for 1,000 periods. Calculate the following five statistics:\n",
    "\n",
    "1. Variance of $y_t$, $var(y_t)$\n",
    "2. Variance of $\\pi_t$, $var(\\pi_t)$\n",
    "3. Correlation between $y_t$ and $\\pi_t$, $corr(y_t,\\pi_t)$\n",
    "4. Auto-correlation between $y_t$ and $y_{t-1}$, $corr(y_t,y_{t-1})$\n",
    "5. Auto-correlation between $\\pi_t$ and $\\pi_{t-1}$, $corr(\\pi_t,\\pi_{t-1})$"
   ]
  },
  {
   "cell_type": "code",
   "execution_count": 6,
   "metadata": {},
   "outputs": [],
   "source": [
    "pi = sm.symbols(\"pi\")\n",
    "gamma = par[\"gamma\"]\n",
    "phi = sm.symbols(\"phi\")\n",
    "y = sm.symbols(\"y\")\n",
    "y_lag = sm.symbols(\"y_lag\")\n",
    "pi_lag = sm.symbols(\"pi_lag\")\n",
    "s = sm.symbols(\"s\")\n",
    "s_lag = sm.symbols(\"s_lag\")\n",
    "alpha = par[\"alpha\"]\n",
    "h = par[\"h\"]\n",
    "b = par[\"b\"]\n",
    "v = sm.symbols(\"v\")"
   ]
  },
  {
   "cell_type": "markdown",
   "metadata": {},
   "source": [
    "We also redefine the AR and SRAS curves:"
   ]
  },
  {
   "cell_type": "code",
   "execution_count": null,
   "metadata": {},
   "outputs": [],
   "source": [
    "AD = (1/(h*alpha))*(v-(1+(b*alpha))*y)\n",
    "SRAS = pi_lag+gamma*y-phi*gamma*y_lag+s-phi*s_lag"
   ]
  },
  {
   "cell_type": "code",
   "execution_count": null,
   "metadata": {},
   "outputs": [],
   "source": [
    "#We now solve the equations as we did previously:\n",
    "AD_equal_SRAS = sm.Eq(AD,SRAS)\n",
    "y_final = sm.solve(AD_equal_SRAS,y)[0]\n",
    "print(\"Output gap is period t is:\", y_final)"
   ]
  },
  {
   "cell_type": "code",
   "execution_count": null,
   "metadata": {},
   "outputs": [],
   "source": [
    "pi_solve= sm.Eq(pi,SRAS)\n",
    "pi_final = sm.solve(pi_solve, pi)[0]\n",
    "print(\"Inflation gap in period t is:\", pi_final)"
   ]
  },
  {
   "cell_type": "code",
   "execution_count": null,
   "metadata": {},
   "outputs": [],
   "source": [
    "y_lambdified = sm.lambdify((pi_lag, s, v, phi, s_lag, y_lag), y_final)\n",
    "pi_lambdified = sm.lambdify((pi_lag, s, y, phi, s_lag, y_lag), pi_final)"
   ]
  },
  {
   "cell_type": "code",
   "execution_count": null,
   "metadata": {},
   "outputs": [],
   "source": [
    "def simulate(stoc_x, stoc_c, phi):\n",
    "    #Range to simulate over\n",
    "    t = range(0, 1000, 1)\n",
    "    \n",
    "    #Seed - need this in order to use the function over multiple samples for changed parameters\n",
    "    np.random.seed(32)\n",
    "    #Demand shocks    \n",
    "    x = [np.random.normal(0, stoc_x) for i in t]\n",
    "    \n",
    "    #Supply shocks\n",
    "    c = [np.random.normal(0, stoc_c) for i in t]\n",
    "    \n",
    "    # Demand and supply disturbances\n",
    "    v = [delta*0+x[0]] #initialisation of v_0\n",
    "    s = [omega*0+c[0]] # initialisation of s_0\n",
    "\n",
    "    # Get full list of v and s for all 1000 periods.\n",
    "    for i in range(1, max(t)+1):\n",
    "        v.append(delta*v[i-1]+x[i])\n",
    "        s.append(omega*s[i-1]+c[i])\n",
    "        \n",
    "    output = [0] #initialisation of output gap\n",
    "    inflation = [0] #initialisation of inflation gap\n",
    "\n",
    "    # Get full list of output and inflation for all 1000 periods.\n",
    "    for i, j, k in zip(v, s, range(0, 999)):\n",
    "        output.append(y_lambdified(pi_lag = inflation[k], s = j, v = i, phi = phi, s_lag = s[k], y_lag = output[k]))\n",
    "        inflation.append(pi_lambdified(pi_lag = inflation[k], s = j,\n",
    "                                    y = y_lambdified(pi_lag = inflation[k], s = j, v = i, phi = phi, s_lag = s[k], y_lag = output[k]),\n",
    "                                    phi = phi, s_lag = s[k], y_lag = output[k]))\n",
    "     \n",
    "    # Define autocorrelation function\n",
    "    def autocorr(x, t=1):\n",
    "        return np.corrcoef(np.array([x[:-t], x[t:]]))\n",
    "    \n",
    "    # Calculate the relevant statistics\n",
    "    var_output = np.var(output)\n",
    "    var_inflation = np.var(inflation)\n",
    "    corr_output_inflation = np.corrcoef(output, inflation)[1][0]\n",
    "    acf_output = autocorr(output)[1][0]\n",
    "    acf_inflation = autocorr(inflation)[1][0]\n",
    "    \n",
    "    # Return the output, inflation and the calculated statistics\n",
    "    return output, inflation, var_output, var_inflation, corr_output_inflation, acf_output, acf_inflation"
   ]
  },
  {
   "cell_type": "code",
   "execution_count": null,
   "metadata": {},
   "outputs": [],
   "source": [
    "output = simulate(stoc_x=3.492, stoc_c=0.2, phi = 0.1)[0]\n",
    "inflation = simulate(stoc_x=3.492, stoc_c=0.2, phi = 0.1)[1]\n",
    "\n",
    "# Create a list with periods. This is used as the x-axis\n",
    "t = range(0, 1000, 1)"
   ]
  },
  {
   "cell_type": "code",
   "execution_count": null,
   "metadata": {},
   "outputs": [],
   "source": [
    "fig = plt.figure(figsize= (10,5))\n",
    "ax = fig.add_subplot(1,1,1)\n",
    "ax.plot(t, output, label = 'Output gap', alpha=0.7)\n",
    "ax.plot(t, inflation, linestyle= ':', label = 'Inflation gap', color='red')\n",
    "#ax.grid() \n",
    "ax.legend()\n",
    "ax.set_xlabel('t') # \n",
    "ax.set_ylabel('$y_t, \\pi_t$')\n",
    "ax.set_title('Output and inflation gap for 1000 periods with $\\phi=0.1$')\n",
    "plt.xticks(range(0, 1001, 100))\n",
    "plt.show()"
   ]
  },
  {
   "cell_type": "code",
   "execution_count": null,
   "metadata": {},
   "outputs": [],
   "source": [
    "print(\"Output variance:\" + str(round(simulate(stoc_x=3.492, stoc_c=0.2, phi = 0.1)[2], 4)))\n",
    "print(\"Inflation variance:\" + str(round(simulate(stoc_x=3.492, stoc_c=0.2, phi = 0.1)[3], 4)))\n",
    "print(\"Correlation between output and inflation:\" + str(round(simulate(stoc_x=3.492, stoc_c=0.2, phi = 0.1)[4],4)))\n",
    "print(\"Output auto-correlation: \" + str(round(simulate(stoc_x=3.492, stoc_c=0.2, phi = 0.1)[5], 4)))\n",
    "print(\"Inflation auto-correlation: \"+ str(round(simulate(stoc_x=3.492, stoc_c=0.2, phi = 0.1)[6], 4)))"
   ]
  },
  {
   "cell_type": "markdown",
   "metadata": {},
   "source": [
    "**Question 5:** Plot how the correlation between $y_t$ and $\\pi_t$ changes with $\\phi$. Use a numerical optimizer or root finder to choose $\\phi\\in(0,1)$ such that the simulated correlation between $y_t$ and $\\pi_t$ comes close to 0.31. "
   ]
  },
  {
   "cell_type": "code",
   "execution_count": null,
   "metadata": {},
   "outputs": [],
   "source": [
    "# Getting the correlation output\n",
    "corr_output_inflation = [] #List for the output over correlation\n",
    "phi_range = np.linspace(0,1,21)\n",
    "\n",
    "for i in phi_range:\n",
    "    corr_output_inflation.append(simulate(stoc_x = 3.492, stoc_c = 0.2, phi = i)[4])\n",
    "    \n",
    "    "
   ]
  },
  {
   "cell_type": "code",
   "execution_count": null,
   "metadata": {},
   "outputs": [],
   "source": [
    "# plot the results\n",
    "fig = plt.figure(figsize= (10,5))\n",
    "ax = fig.add_subplot(1,1,1)\n",
    "ax.plot(phi_range, corr_output_inflation, label = \"$corr(y_t,\\pi_t)$\", alpha=1.0)\n",
    "#ax.grid() \n",
    "ax.legend()\n",
    "ax.set_xlabel(\"$\\phi$\")  \n",
    "ax.set_ylabel(\"$corr(y_t,\\pi_t)$\")\n",
    "ax.set_title(\"$corr(y_t,\\pi_t)$ as a function of $\\phi$\")\n",
    "#plt.xticks(range(0, , 10))\n",
    "plt.axhline(y=0.31, color = 'black', linewidth = 1, linestyle =':', label = \"$corr(y_t,\\pi_t)=0.31$\")\n",
    "plt.legend()\n",
    "plt.show()"
   ]
  },
  {
   "cell_type": "code",
   "execution_count": null,
   "metadata": {},
   "outputs": [],
   "source": [
    "def simulate_corr(phi, stoc_x=3.492, stoc_c=0.2, target = 0.31):\n",
    "    #Range to simulate over\n",
    "    t = range(0, 1000, 1)\n",
    "    \n",
    "    #Seed - need this in order to use the function over multiple samples for changed parameters\n",
    "    np.random.seed(32)\n",
    "    #Demand shocks    \n",
    "    x = [np.random.normal(0, stoc_x) for i in t]\n",
    "    \n",
    "    #Supply shocks\n",
    "    c = [np.random.normal(0, stoc_c) for i in t]\n",
    "    \n",
    "    # Demand and supply disturbances\n",
    "    v = [delta*0+x[0]] #initialisation of v_0\n",
    "    s = [omega*0+c[0]] # initialisation of s_0\n",
    "\n",
    "    for i in range(1, max(t)+1):\n",
    "        v.append(delta*v[i-1]+x[i])\n",
    "        s.append(omega*s[i-1]+c[i])\n",
    "        \n",
    "    output = [0]\n",
    "    inflation = [0]\n",
    "\n",
    "    for i, j, k in zip(v, s, range(0, 999)):\n",
    "        output.append(y_lambdified(pi_lag = inflation[k], s = j, v = i, phi = phi, s_lag = s[k], y_lag = output[k]))\n",
    "        inflation.append(pi_lambdified(pi_lag = inflation[k], s = j,\n",
    "                                    y =y_lambdified(pi_lag = inflation[k], s = j, v = i, phi = phi, s_lag = s[k], y_lag = output[k]),\n",
    "                                    phi = phi, s_lag = s[k], y_lag = output[k]))\n",
    "    # Define autocorrelation   \n",
    "    def autocorr(x, t=1):\n",
    "        return np.corrcoef(np.array([x[:-t], x[t:]]))\n",
    "    \n",
    "    corr_output_inflation = np.corrcoef(output, inflation)[1][0]\n",
    "    diff_corr_target = (corr_output_inflation - target)**2 #squared difference\n",
    "\n",
    "    \n",
    "    return diff_corr_target"
   ]
  },
  {
   "cell_type": "code",
   "execution_count": null,
   "metadata": {},
   "outputs": [],
   "source": [
    "x = lambda phi: simulate_corr(phi) #objective function\n",
    "phi_opt = optimize.minimize_scalar(x, method='bounded', bounds=[0,1]) #bounded scalar minimizer"
   ]
  },
  {
   "cell_type": "code",
   "execution_count": null,
   "metadata": {},
   "outputs": [],
   "source": [
    "print('If phi is ' + str(phi_opt.x) + ' then:')\n",
    "print('Correlation between output and inflation: '+ str(simulate(stoc_x=3.492, stoc_c=0.2, phi = phi_opt.x)[4]))"
   ]
  },
  {
   "cell_type": "markdown",
   "metadata": {},
   "source": [
    "**Quesiton 6:** Use a numerical optimizer to choose $\\sigma_x>0$, $\\sigma_c>0$ and $\\phi\\in(0,1)$ to make the simulated statistics as close as possible to US business cycle data where:\n",
    "\n",
    "1. $var(y_t) = 1.64$\n",
    "2. $var(\\pi_t) = 0.21$\n",
    "3. $corr(y_t,\\pi_t) = 0.31$\n",
    "4. $corr(y_t,y_{t-1}) = 0.84$\n",
    "5. $corr(\\pi_t,\\pi_{t-1}) = 0.48$"
   ]
  },
  {
   "cell_type": "code",
   "execution_count": null,
   "metadata": {},
   "outputs": [],
   "source": [
    "def simulate_full(vector):\n",
    "    #Takes in a vector with: (phi, stoc_x, stoc_c)\n",
    "    \n",
    "    #Range to simulate over\n",
    "    t = range(0, 1000, 1)\n",
    "    \n",
    "    #Seed - need this in order to use the function over multiple samples for changed parameters\n",
    "    np.random.seed(32)\n",
    "    #Demand shocks    \n",
    "    x = [np.random.normal(0, vector[1]) for i in t]\n",
    "    \n",
    "    #Supply shocks\n",
    "    c = [np.random.normal(0, vector[2]) for i in t]\n",
    "    \n",
    "    # Demand and supply disturbances\n",
    "    v = [delta*0+x[0]] #initialisation of v_0\n",
    "    s = [omega*0+c[0]] # initialisation of s_0\n",
    "\n",
    "    for i in range(1, max(t)+1):\n",
    "        v.append(delta*v[i-1]+x[i])\n",
    "        s.append(omega*s[i-1]+c[i])\n",
    "        \n",
    "    output = [0]\n",
    "    inflation = [0]\n",
    "\n",
    "    for i, j, k in zip(v, s, range(0, 999)):\n",
    "        output.append(y_lambdified(pi_lag = inflation[k], s = j, v = i, phi = vector[0], s_lag = s[k], y_lag = output[k]))\n",
    "        inflation.append(pi_lambdified(pi_lag = inflation[k], s = j,\n",
    "                                    y =y_lambdified(pi_lag = inflation[k], s = j, v = i, phi = vector[0], s_lag = s[k], y_lag = output[k]),\n",
    "                                    phi = vector[0], s_lag = s[k], y_lag = output[k]))\n",
    "    # Define autocorrelation    \n",
    "    def autocorr(x, t=1):\n",
    "        return np.corrcoef(np.array([x[:-t], x[t:]]))\n",
    "    \n",
    "    #Summary stats\n",
    "    var_output = np.var(output)\n",
    "    var_inflation = np.var(inflation)\n",
    "    corr_output_inflation = np.corrcoef(output, inflation)[1][0]\n",
    "    acf_output = autocorr(output)[1][0]\n",
    "    acf_inflation = autocorr(inflation)[1][0]\n",
    "    \n",
    "    #Targets\n",
    "    targets = [1.64, 0.21, 0.31, 0.84, 0.48]\n",
    "    \n",
    "    #Squared differences\n",
    "    diff_output = (var_output - targets[0])**2\n",
    "    diff_inflation = (var_inflation - targets[1])**2\n",
    "    diff_corr_target = (corr_output_inflation - targets[2])**2 #squared difference\n",
    "    diff_acf_output = (acf_output - targets[3])**2\n",
    "    diff_acf_inflation = (acf_inflation - targets[4])**2\n",
    "    \n",
    "    #Sum of squared differences\n",
    "    diff_sumsq = sum([diff_output, diff_inflation, diff_corr_target, diff_acf_output, diff_acf_inflation])\n",
    "    \n",
    "    return diff_sumsq"
   ]
  },
  {
   "cell_type": "code",
   "execution_count": null,
   "metadata": {},
   "outputs": [],
   "source": [
    "x = lambda test: simulate_full(test) #objective function\n",
    "guess = (0.92, 3.492, 0.2) # initial guess\n",
    "targets = [1.64, 0.21, 0.31, 0.84, 0.48] # for printing\n",
    "\n",
    "# define bounds\n",
    "phi_bounds = (0,1) \n",
    "stoc_x_bounds = (0,100) #100 aribitrarily chosen\n",
    "stoc_c_bounds = (0,100) #100 arbitrarily chosen\n",
    "bounds = (phi_bounds, stoc_x_bounds, stoc_c_bounds)"
   ]
  },
  {
   "cell_type": "code",
   "execution_count": null,
   "metadata": {},
   "outputs": [],
   "source": [
    "vector_opt = optimize.minimize(x, x0 = guess, method=\"Nelder-Mead\", bounds=bounds, options={'maxiter': 30000}) #bounded minimizer\n",
    "vector_opt.x"
   ]
  },
  {
   "cell_type": "markdown",
   "metadata": {},
   "source": [
    "After using different methods to solve to minimization problem, we got the same result for several different methods, which were:\n",
    "\n",
    "- $\\phi=0.978$\n",
    "- $\\sigma_x=3.308$\n",
    "- $\\sigma_c=0.466$\n",
    "\n",
    "Using these results we get the following outputs for variance, correlation and auto-correlation:"
   ]
  },
  {
   "cell_type": "code",
   "execution_count": null,
   "metadata": {},
   "outputs": [],
   "source": [
    "print('Variance of output: '+ str(simulate(stoc_x=vector_opt.x[1], stoc_c=vector_opt.x[2], phi=vector_opt.x[0])[2]) +\n",
    "      ' with a target of: ' + str(targets[0]))\n",
    "print('Variance of inflation: '+ str(simulate(stoc_x=vector_opt.x[1], stoc_c=vector_opt.x[2], phi=vector_opt.x[0])[3]) +\n",
    "      ' with a target of: ' + str(targets[1]))\n",
    "print('Correlation between output and inflation: '+ str(simulate(stoc_x=vector_opt.x[1], stoc_c=vector_opt.x[2], phi=vector_opt.x[0])[4]) + \n",
    "      ' with a target of: ' + str(targets[2]))\n",
    "print('Auto-correlation output: '+ str(simulate(stoc_x=vector_opt.x[1], stoc_c=vector_opt.x[2], phi=vector_opt.x[0])[5]) + \n",
    "      ' with a target of: ' + str(targets[3]))\n",
    "print('Auto-correlation inflation: '+ str(simulate(stoc_x=vector_opt.x[1], stoc_c=vector_opt.x[2], phi=vector_opt.x[0])[6]) + \n",
    "      ' with a target of: ' + str(targets[4]))"
   ]
  },
  {
   "cell_type": "markdown",
   "metadata": {},
   "source": [
    "We can then compare our results to those we wished to emulate, and we see that we get exactly the same results.\n",
    "\n",
    "1. $var(y_t) = 1.64$\n",
    "2. $var(\\pi_t) = 0.21$\n",
    "3. $corr(y_t,\\pi_t) = 0.31$\n",
    "4. $corr(y_t,y_{t-1}) = 0.84$\n",
    "5. $corr(\\pi_t,\\pi_{t-1}) = 0.48$"
   ]
  },
  {
   "cell_type": "markdown",
   "metadata": {},
   "source": [
    "# 3. Exchange economy"
   ]
  },
  {
   "cell_type": "markdown",
   "metadata": {},
   "source": [
    "Consider an **exchange economy** with\n",
    "\n",
    "1. 3 goods, $(x_1,x_2,x_3)$\n",
    "2. $N$ consumers indexed by \\\\( j \\in \\{1,2,\\dots,N\\} \\\\)\n",
    "3. Preferences are Cobb-Douglas with log-normally distributed coefficients\n",
    "\n",
    "    $$ \\begin{eqnarray*}\n",
    "    u^{j}(x_{1},x_{2},x_{3}) &=& \n",
    "    \\left(x_{1}^{\\beta_{1}^{j}}x_{2}^{\\beta_{2}^{j}}x_{3}^{\\beta_{3}^{j}}\\right)^{\\gamma}\\\\\n",
    "     &  & \\,\\,\\,\\beta_{i}^{j}=\\frac{\\alpha_{i}^{j}}{\\alpha_{1}^{j}+\\alpha_{2}^{j}+\\alpha_{3}^{j}} \\\\\n",
    "     &  & \\,\\,\\,\\boldsymbol{\\alpha}^{j}=(\\alpha_{1}^{j},\\alpha_{2}^{j},\\alpha_{3}^{j}) \\\\ \n",
    "     &  & \\,\\,\\,\\log(\\boldsymbol{\\alpha}^j) \\sim \\mathcal{N}(\\mu,\\Sigma) \\\\\n",
    "    \\end{eqnarray*} $$\n",
    "\n",
    "4. Endowments are exponentially distributed,\n",
    "\n",
    "$$\n",
    "\\begin{eqnarray*}\n",
    "\\boldsymbol{e}^{j} &=& (e_{1}^{j},e_{2}^{j},e_{3}^{j}) \\\\\n",
    " &  & e_i^j \\sim f, f(z;\\zeta) =  1/\\zeta \\exp(-z/\\zeta)\n",
    "\\end{eqnarray*}\n",
    "$$"
   ]
  },
  {
   "cell_type": "markdown",
   "metadata": {},
   "source": [
    "Let $p_3 = 1$ be the **numeraire**. The implied **demand functions** are:\n",
    "\n",
    "$$\n",
    "\\begin{eqnarray*}\n",
    "x_{i}^{\\star j}(p_{1},p_{2},\\boldsymbol{e}^{j})&=&\\beta^{j}_i\\frac{I^j}{p_{i}} \\\\\n",
    "\\end{eqnarray*}\n",
    "$$\n",
    "\n",
    "where consumer $j$'s income is\n",
    "\n",
    "$$I^j = p_1 e_1^j + p_2 e_2^j +p_3 e_3^j$$"
   ]
  },
  {
   "cell_type": "markdown",
   "metadata": {},
   "source": [
    "The **parameters** and **random preferences and endowments** are given by:"
   ]
  },
  {
   "cell_type": "code",
   "execution_count": 185,
   "metadata": {},
   "outputs": [],
   "source": [
    "# a. parameters\n",
    "N = 50000\n",
    "mu = np.array([3,2,1])\n",
    "Sigma = np.array([[0.25, 0, 0], [0, 0.25, 0], [0, 0, 0.25]])\n",
    "gamma = 0.8\n",
    "zeta = 1\n",
    "\n",
    "# b. random draws\n",
    "seed = 1986\n",
    "np.random.seed(seed)\n",
    "\n",
    "# preferences\n",
    "alphas = np.exp(np.random.multivariate_normal(mu, Sigma, size=N))\n",
    "betas = alphas/np.reshape(np.sum(alphas,axis=1),(N,1))\n",
    "\n",
    "# endowments\n",
    "e1 = np.random.exponential(zeta,size=N)\n",
    "e2 = np.random.exponential(zeta,size=N)\n",
    "e3 = np.random.exponential(zeta,size=N)"
   ]
  },
  {
   "cell_type": "markdown",
   "metadata": {},
   "source": [
    "**Question 1:** Plot the histograms of the budget shares for each good across agents.\n",
    "\n",
    "Consider the **excess demand functions:**\n",
    "\n",
    "$$ z_i(p_1,p_2) = \\sum_{j=1}^N x_{i}^{\\star j}(p_{1},p_{2},\\boldsymbol{e}^{j}) - e_i^j$$"
   ]
  },
  {
   "cell_type": "code",
   "execution_count": 186,
   "metadata": {},
   "outputs": [],
   "source": [
    "import numpy as np\n",
    "import matplotlib.pyplot as plt\n",
    "%matplotlib inline\n",
    "import sympy as sm\n",
    "import math\n",
    "from mpl_toolkits.mplot3d import Axes3D\n",
    "import itertools\n",
    "import matplotlib as mpl"
   ]
  },
  {
   "cell_type": "code",
   "execution_count": 187,
   "metadata": {},
   "outputs": [
    {
     "data": {
      "image/png": "[encoded data removed]",
      "text/plain": [
       "<Figure size 432x288 with 1 Axes>"
      ]
     },
     "metadata": {
      "needs_background": "light"
     },
     "output_type": "display_data"
    }
   ],
   "source": [
    "# We plot the histogram\n",
    "plt.hist(betas, bins=75, label = ['1st Good', '2nd Good', '3rd Good'])\n",
    "plt.ylabel('Consumers (N)')\n",
    "plt.xlabel('Budget shares')\n",
    "plt.title('Histogram of budget shares for N=50000')\n",
    "plt.legend()\n",
    "plt.show()"
   ]
  },
  {
   "cell_type": "markdown",
   "metadata": {},
   "source": [
    "**Question 2:** Plot the excess demand functions."
   ]
  },
  {
   "cell_type": "code",
   "execution_count": 188,
   "metadata": {},
   "outputs": [],
   "source": [
    "# We define the 3 demand functions\n",
    "\n",
    "# Good 1\n",
    "def demand_good1_func(betas, p1, p2, e1, e2, e3):\n",
    "    I = p1*e1 + p2*e2 + e3\n",
    "    return betas[:,0]*I/p1\n",
    "\n",
    "# Good 2\n",
    "def demand_good2_func(betas, p1, p2, e1, e2, e3):\n",
    "    I = p1*e1 + p2*e2 + e3\n",
    "    return betas[:,1]*I/p2\n",
    "\n",
    "# Good 3\n",
    "def demand_good3_func(betas, p1, p2, e1, e2, e3):\n",
    "    I = p1*e1 + p2*e2 + e3\n",
    "    return betas[:,2]*I"
   ]
  },
  {
   "cell_type": "code",
   "execution_count": 189,
   "metadata": {},
   "outputs": [],
   "source": [
    "# Defining the excess demand functions\n",
    "\n",
    "# Excess demand function 1\n",
    "def excess1_func(betas, p1, p2, e1, e2, e3):\n",
    "    \n",
    "    # demand\n",
    "    demand_1 = np.sum(demand_good1_func(betas, p1, p2, e1, e2, e3))\n",
    "    \n",
    "    # supply\n",
    "    supply_1 = np.sum(e1)\n",
    "    \n",
    "    # excess demand\n",
    "    excess_demand_1 = demand_1 - supply_1\n",
    "    \n",
    "    return excess_demand_1\n",
    "\n",
    "# Excess demand function 2\n",
    "def excess2_func(betas, p1, p2, e1, e2, e3):\n",
    "    \n",
    "    # demand\n",
    "    demand_2 = np.sum(demand_good2_func(betas, p1, p2, e1, e2, e3))\n",
    "    \n",
    "    # supply\n",
    "    supply_2 = np.sum(e2)\n",
    "    \n",
    "    # excess demand\n",
    "    excess_demand_2 = demand_2 - supply_2\n",
    "    \n",
    "    return excess_demand_2\n",
    "\n",
    "# Excess demand function 3\n",
    "def excess3_func(betas, p1, p2, e1, e2, e3):\n",
    "    \n",
    "    # demand\n",
    "    demand_3 = np.sum(demand_good3_func(betas, p1, p2, e1, e2, e3))\n",
    "    \n",
    "    # supply\n",
    "    supply_3 = np.sum(e1)\n",
    "    \n",
    "    # excess demand\n",
    "    excess_demand_3 = demand_3 - supply_3\n",
    "    \n",
    "    return excess_demand_3\n"
   ]
  },
  {
   "cell_type": "code",
   "execution_count": 190,
   "metadata": {},
   "outputs": [],
   "source": [
    "# Defining the limits\n",
    "size = 75\n",
    "\n",
    "linspace_p1 = np.linspace(1, 10, size)\n",
    "linspace_p2 = np.linspace(1, 10, size)\n",
    "\n",
    "grid1_empty = np.empty((size,size))\n",
    "grid2_empty = np.empty((size,size))\n",
    "\n",
    "p1_grid, p2_grid = np.meshgrid(linspace_p1, linspace_p2) \n",
    "for i,p1 in enumerate(linspace_p1):\n",
    "    for j,p2 in enumerate(linspace_p2):\n",
    "        grid1_empty[i,j] = excess1_func(betas, p1 , p2, e1, e2, e3)\n",
    "        grid2_empty[i,j] = excess2_func(betas, p1 , p2, e1, e2, e3)"
   ]
  },
  {
   "cell_type": "code",
   "execution_count": 191,
   "metadata": {},
   "outputs": [
    {
     "data": {
      "image/png": "[encoded data removed]",
      "text/plain": [
       "<Figure size 640x1280 with 1 Axes>"
      ]
     },
     "metadata": {
      "needs_background": "light"
     },
     "output_type": "display_data"
    },
    {
     "data": {
      "image/png": "[encoded data removed]",
      "text/plain": [
       "<Figure size 640x1280 with 1 Axes>"
      ]
     },
     "metadata": {
      "needs_background": "light"
     },
     "output_type": "display_data"
    }
   ],
   "source": [
    "# Plotting the figures\n",
    "\n",
    "# Figure for good 1\n",
    "fig1 = plt.figure(dpi=80, figsize=(8,16))\n",
    "\n",
    "axis1 = fig1.add_subplot(3,1,1, projection = '3d')\n",
    "fig1 = axis1.plot_surface(p1_grid, p2_grid, grid1_empty, cmap=plt.cm.terrain, cstride=1, rstride=1)\n",
    "\n",
    "# Defining title and labels\n",
    "axis1.set_title('Excess demand of good 1')\n",
    "axis1.set_xlabel('$p_1$')\n",
    "axis1.set_ylabel('$p_2$')\n",
    "axis1.invert_xaxis()\n",
    "\n",
    "#Figure for good 2\n",
    "fig2 = plt.figure(dpi=80, figsize=(8,16))\n",
    "\n",
    "axis2 = fig2.add_subplot(3,1,1, projection = '3d')\n",
    "fig2 = axis2.plot_surface(p1_grid, p2_grid, grid2_empty, cmap=plt.cm.terrain, cstride=1, rstride=1)\n",
    "\n",
    "# Defining title and labels\n",
    "axis2.set_title('Excess demand of good 2')\n",
    "axis2.set_xlabel('$p_1$')\n",
    "axis2.set_ylabel('$p_2$')\n",
    "axis2.invert_xaxis()"
   ]
  },
  {
   "cell_type": "markdown",
   "metadata": {},
   "source": [
    "We see, as expected, that the excess demand of good 1 is highly dependant on the price of good 1, and likewise with good 2."
   ]
  },
  {
   "cell_type": "markdown",
   "metadata": {},
   "source": [
    "**Question 3:** Find the Walras-equilibrium prices, $(p_1,p_2)$, where both excess demands are (approximately) zero, e.g. by using the following tâtonnement process:\n",
    "\n",
    "1. Guess on $p_1 > 0$, $p_2 > 0$ and choose tolerance $\\epsilon > 0$ and adjustment aggressivity parameter, $\\kappa > 0$.\n",
    "2. Calculate $z_1(p_1,p_2)$ and $z_2(p_1,p_2)$.\n",
    "3. If $|z_1| < \\epsilon$ and $|z_2| < \\epsilon$ then stop.\n",
    "4. Else set $p_1 = p_1 + \\kappa \\frac{z_1}{N}$ and $p_2 = p_2 + \\kappa \\frac{z_2}{N}$ and return to step 2."
   ]
  },
  {
   "cell_type": "markdown",
   "metadata": {},
   "source": [
    "As described, we will find the equilibrium by a trial-and-error method (tâtonnement)."
   ]
  },
  {
   "cell_type": "code",
   "execution_count": 261,
   "metadata": {},
   "outputs": [
    {
     "name": "stdout",
     "output_type": "stream",
     "text": [
      "Iteration 0 -> Excess good 1: 24830.6208 - Excess good 2: -19681.1061 -> p1:     3.0497 - p2:     2.9606\n",
      "Iteration 5 -> Excess good 1: 19962.4377 - Excess good 2: -17490.0649 -> p1:     3.2675 - p2:     2.7770\n",
      "Iteration 10 -> Excess good 1: 16362.3056 - Excess good 2: -15373.7747 -> p1:     3.4447 - p2:     2.6149\n",
      "Iteration 15 -> Excess good 1: 13599.7239 - Excess good 2: -13339.5522 -> p1:     3.5912 - p2:     2.4734\n",
      "Iteration 20 -> Excess good 1: 11432.3113 - Excess good 2: -11406.8960 -> p1:     3.7138 - p2:     2.3517\n",
      "Iteration 25 -> Excess good 1:  9709.4558 - Excess good 2: -9600.2502 -> p1:     3.8175 - p2:     2.2486\n",
      "Iteration 30 -> Excess good 1:  8329.8788 - Excess good 2: -7943.2771 -> p1:     3.9060 - p2:     2.1627\n",
      "Iteration 35 -> Excess good 1:  7220.9377 - Excess good 2: -6454.4097 -> p1:     3.9825 - p2:     2.0923\n",
      "Iteration 40 -> Excess good 1:  6327.8340 - Excess good 2: -5144.0469 -> p1:     4.0492 - p2:     2.0358\n",
      "Iteration 45 -> Excess good 1:  5607.7219 - Excess good 2: -4013.6214 -> p1:     4.1080 - p2:     1.9913\n",
      "Iteration 50 -> Excess good 1:  5026.3564 - Excess good 2: -3056.3517 -> p1:     4.1605 - p2:     1.9570\n",
      "Iteration 500 -> Excess good 1:   824.2656 - Excess good 2: 307.9416 -> p1:     5.6981 - p2:     2.3211\n",
      "Iteration 2500 -> Excess good 1:    16.6888 - Excess good 2: 6.2260 -> p1:     6.4719 - p2:     2.6099\n",
      "Iteration 5000 -> Excess good 1:     0.1721 - Excess good 2: 0.0642 -> p1:     6.4899 - p2:     2.6166\n",
      "Iteration 7500 -> Excess good 1:     0.0018 - Excess good 2: 0.0007 -> p1:     6.4901 - p2:     2.6167\n",
      "Iteration 10000 -> Excess good 1:     0.0000 - Excess good 2: 0.0000 -> p1:     6.4901 - p2:     2.6167\n",
      "Iteration 12500 -> Excess good 1:     0.0000 - Excess good 2: 0.0000 -> p1:     6.4901 - p2:     2.6167\n",
      "\n"
     ]
    }
   ],
   "source": [
    "# We set some parameter values\n",
    "epsilon = 1e-8\n",
    "kappa = 0.1\n",
    "p1 = 3\n",
    "p2 = 3\n",
    "\n",
    "# Setting starting point and cap for iterations\n",
    "t=0\n",
    "cap = 25000\n",
    "\n",
    "# Defining the iteration\n",
    "while t < cap:\n",
    "    Z1 = excess1_func(betas, p1, p2, e1, e2, e3)\n",
    "    Z2 = excess2_func(betas, p1, p2, e1, e2, e3)\n",
    "    \n",
    "    if Z1 < epsilon and Z2 < epsilon:\n",
    "        print()\n",
    "        break\n",
    "    else:\n",
    "        p1 += kappa*Z1/N\n",
    "        p2 += kappa*Z2/N\n",
    "        \n",
    "    # Setting up the print\n",
    "    if (t%5 == 0 and t<=50) or t%2500 == 0 or t == 500 or t == 25000:\n",
    "        print(f'Iteration {t} -> Excess good 1: {Z1:10.4f} - Excess good 2: {Z2:01.4f} -> p1: {p1:10.4f} - p2: {p2:10.4f}')\n",
    "             \n",
    "    t += 1"
   ]
  },
  {
   "cell_type": "markdown",
   "metadata": {},
   "source": [
    "We see, that after around 12,500 iterations, the equilibrium prices has been found by trial and error.\n",
    "\n",
    "The equilibrium prices are:\n",
    "\n",
    "$(p1, p2, p3) = (6.49, 2.62, 1.00)$\n",
    "\n",
    "These are having an excess demand of (Z1, Z2) = (0, 0)"
   ]
  },
  {
   "cell_type": "markdown",
   "metadata": {},
   "source": [
    "**Question 4:** Plot the distribution of utility in the Walras-equilibrium and calculate its mean and variance."
   ]
  },
  {
   "cell_type": "code",
   "execution_count": 193,
   "metadata": {},
   "outputs": [],
   "source": [
    "# We define the utility function\n",
    "def u_j(betas, gamma, p1, p2, e1, e2, e3):\n",
    "    \n",
    "    # Quantities of each good\n",
    "    Q1 = demand_good1_func(betas, p1, p2, e1, e2, e3)\n",
    "    Q2 = demand_good2_func(betas, p1, p2, e1, e2, e3)\n",
    "    Q3 = demand_good3_func(betas, p1, p2, e1, e2, e3)\n",
    "    \n",
    "    # Defining the betas\n",
    "    good1_beta = np.array([x[0] for x in betas])\n",
    "    good2_beta = np.array([x[1] for x in betas])\n",
    "    good3_beta = np.array([x[2] for x in betas])\n",
    "    \n",
    "    # Calculate the consumers utilities\n",
    "    return ((Q1**good1_beta)*(Q2**good2_beta)*(Q3**good3_beta))**gamma\n",
    "\n",
    "# We use the prices found in Question 3.3 and define u_j*\n",
    "p1 = 6.4901\n",
    "p2 = 2.6167\n",
    "u_j_star = u_j(betas, gamma, p1, p2, e1, e2, e3)"
   ]
  },
  {
   "cell_type": "code",
   "execution_count": 194,
   "metadata": {},
   "outputs": [
    {
     "name": "stdout",
     "output_type": "stream",
     "text": [
      "Mean:     1.0101644016258116\n",
      "Variance: 0.317340867953136\n"
     ]
    },
    {
     "data": {
      "image/png": "[encoded data removed]",
      "text/plain": [
       "<Figure size 432x288 with 1 Axes>"
      ]
     },
     "metadata": {},
     "output_type": "display_data"
    }
   ],
   "source": [
    "# Plot the histogram of the utility distribution\n",
    "plt.style.use('ggplot')\n",
    "plt.hist(u_j_star, bins = 100, color = 'b')\n",
    "plt.title('Distribution of utility, N consumers')\n",
    "plt.xlabel('Utility')\n",
    "plt.ylabel('Consumers (N)')\n",
    "\n",
    "# Print the mean and variance of the distribution\n",
    "print(\"Mean:    \" ,np.mean(u_j_star))\n",
    "print(\"Variance:\" ,np.var(u_j_star))"
   ]
  },
  {
   "cell_type": "markdown",
   "metadata": {},
   "source": [
    "We see the utility distribution having a mean on 1.0, and a variance of 0.32."
   ]
  },
  {
   "cell_type": "markdown",
   "metadata": {},
   "source": [
    "**Question 5:** Find the Walras-equilibrium prices if instead all endowments were distributed equally. Discuss the implied changes in the distribution of utility. Does the value of $\\gamma$ play a role for your conclusions?"
   ]
  },
  {
   "cell_type": "code",
   "execution_count": 195,
   "metadata": {},
   "outputs": [],
   "source": [
    "# We draw a new random e\n",
    "np.random.seed(seed)\n",
    "e = np.random.exponential(zeta,size=N)"
   ]
  },
  {
   "cell_type": "code",
   "execution_count": 196,
   "metadata": {},
   "outputs": [],
   "source": [
    "# Defining the 3 equal endowments\n",
    "h1 = e\n",
    "h2 = e\n",
    "h3 = e"
   ]
  },
  {
   "cell_type": "code",
   "execution_count": 197,
   "metadata": {},
   "outputs": [],
   "source": [
    "# We define the 3 demand functions as in previous questions\n",
    "\n",
    "# Good 1\n",
    "def demand_good1_func(betas, p1, p2, h1, h2, h3):\n",
    "    I = p1*h1 + p2*h2 + h3\n",
    "    return betas[:,0]*I/p1\n",
    "\n",
    "# Good 2\n",
    "def demand_good2_func(betas, p1, p2, h1, h2, h3):\n",
    "    I = p1*h1 + p2*h2 + h3\n",
    "    return betas[:,1]*I/p2\n",
    "\n",
    "# Good 3\n",
    "def demand_good3_func(betas, p1, p2, h1, h2, h3):\n",
    "    I = p1*h1 + p2*h2 + h3\n",
    "    return betas[:,2]*I"
   ]
  },
  {
   "cell_type": "code",
   "execution_count": 198,
   "metadata": {},
   "outputs": [],
   "source": [
    "# Defining the excess demand functions\n",
    "\n",
    "# Excess demand function 1\n",
    "def excess1_func(betas, p1, p2, h1, h2, h3):\n",
    "    \n",
    "    # demand\n",
    "    demand_1 = np.sum(demand_good1_func(betas, p1, p2, h1, h2, h3))\n",
    "    \n",
    "    # supply\n",
    "    supply_1 = np.sum(h1)\n",
    "    \n",
    "    # excess demand\n",
    "    excess_demand_1 = demand_1 - supply_1\n",
    "    \n",
    "    return excess_demand_1\n",
    "\n",
    "# Excess demand function 2\n",
    "def excess2_func(betas, p1, p2, h1, h2, h3):\n",
    "    \n",
    "    # demand\n",
    "    demand_2 = np.sum(demand_good2_func(betas, p1, p2, h1, h2, h3))\n",
    "    \n",
    "    # supply\n",
    "    supply_2 = np.sum(h2)\n",
    "    \n",
    "    # excess demand\n",
    "    excess_demand_2 = demand_2 - supply_2\n",
    "    \n",
    "    return excess_demand_2\n",
    "\n",
    "# Excess demand function 3\n",
    "def excess3_func(betas, p1, p2, h1, h2, h3):\n",
    "    \n",
    "    # demand\n",
    "    demand_3 = np.sum(demand_good3_func(betas, p1, p2, h1, h2, h3))\n",
    "    \n",
    "    # supply\n",
    "    supply_3 = np.sum(h1)\n",
    "    \n",
    "    # excess demand\n",
    "    excess_demand_3 = demand_3 - supply_3\n",
    "    \n",
    "    return excess_demand_3\n"
   ]
  },
  {
   "cell_type": "code",
   "execution_count": 199,
   "metadata": {},
   "outputs": [
    {
     "name": "stdout",
     "output_type": "stream",
     "text": [
      "Iteration 0 -> Excess good 1: 24941.4133 - Excess good 2: -19893.1186 -> p1:     3.0499 - p2:     2.9602\n",
      "Iteration 5 -> Excess good 1: 20016.8014 - Excess good 2: -17676.0385 -> p1:     3.2685 - p2:     2.7746\n",
      "Iteration 10 -> Excess good 1: 16379.2913 - Excess good 2: -15533.0638 -> p1:     3.4460 - p2:     2.6108\n",
      "Iteration 15 -> Excess good 1: 13590.7125 - Excess good 2: -13471.8583 -> p1:     3.5925 - p2:     2.4679\n",
      "Iteration 20 -> Excess good 1: 11404.9469 - Excess good 2: -11512.7026 -> p1:     3.7149 - p2:     2.3450\n",
      "Iteration 25 -> Excess good 1:  9669.2817 - Excess good 2: -9681.0386 -> p1:     3.8182 - p2:     2.2410\n",
      "Iteration 30 -> Excess good 1:  8281.0904 - Excess good 2: -8001.5218 -> p1:     3.9063 - p2:     2.1544\n",
      "Iteration 35 -> Excess good 1:  7166.7577 - Excess good 2: -6493.3718 -> p1:     3.9822 - p2:     2.0836\n",
      "Iteration 40 -> Excess good 1:  6270.7207 - Excess good 2: -5167.4323 -> p1:     4.0484 - p2:     2.0268\n",
      "Iteration 45 -> Excess good 1:  5549.5073 - Excess good 2: -4025.1982 -> p1:     4.1066 - p2:     1.9821\n",
      "Iteration 50 -> Excess good 1:  4968.3556 - Excess good 2: -3059.6187 -> p1:     4.1585 - p2:     1.9478\n",
      "Iteration 500 -> Excess good 1:   809.3314 - Excess good 2: 301.6866 -> p1:     5.6733 - p2:     2.3052\n",
      "Iteration 2500 -> Excess good 1:    15.7468 - Excess good 2: 5.8617 -> p1:     6.4267 - p2:     2.5858\n",
      "Iteration 5000 -> Excess good 1:     0.1536 - Excess good 2: 0.0572 -> p1:     6.4435 - p2:     2.5920\n",
      "Iteration 7500 -> Excess good 1:     0.0015 - Excess good 2: 0.0006 -> p1:     6.4436 - p2:     2.5921\n",
      "Iteration 10000 -> Excess good 1:     0.0000 - Excess good 2: 0.0000 -> p1:     6.4436 - p2:     2.5921\n",
      "Iteration 12500 -> Excess good 1:     0.0000 - Excess good 2: 0.0000 -> p1:     6.4436 - p2:     2.5921\n",
      "\n"
     ]
    }
   ],
   "source": [
    "# We set some parameter values\n",
    "epsilon = 1e-8\n",
    "kappa = 0.1\n",
    "p1 = 3\n",
    "p2 = 3\n",
    "\n",
    "# Setting starting point and cap for iterations\n",
    "t=0\n",
    "cap = 25000\n",
    "\n",
    "# Defining the iteration\n",
    "while t < cap:\n",
    "    Z1 = excess1_func(betas, p1, p2, h1, h2, h3)\n",
    "    Z2 = excess2_func(betas, p1, p2, h1, h2, h3)\n",
    "    \n",
    "    if Z1 < epsilon and Z2 < epsilon:\n",
    "        print()\n",
    "        break\n",
    "    else:\n",
    "        p1 += kappa*Z1/N\n",
    "        p2 += kappa*Z2/N\n",
    "        \n",
    "    # Setting up the print\n",
    "    if (t%5 == 0 and t<=50) or t%2500 == 0 or t == 500 or t == 25000:\n",
    "        print(f'Iteration {t} -> Excess good 1: {Z1:10.4f} - Excess good 2: {Z2:01.4f} -> p1: {p1:10.4f} - p2: {p2:10.4f}')\n",
    "             \n",
    "    t += 1"
   ]
  },
  {
   "cell_type": "markdown",
   "metadata": {},
   "source": [
    "We see now, that the equilibrium prices are a bit different now, where the endowments are equal as opposed to before, where the endowments were different.\n",
    "\n",
    "The new equilibrium prices are:\n",
    "\n",
    "$(p1, p2, p3) = (6.44, 2.59, 1.00)$\n",
    "\n",
    "Which is slightly lower than the prices found earlier, where the endowments were different.\n",
    "\n",
    "We new want to plot the two utility functions against eachother to compare."
   ]
  },
  {
   "cell_type": "code",
   "execution_count": 258,
   "metadata": {},
   "outputs": [],
   "source": [
    "# Define the utility function as previously\n",
    "def u_j2(betas, gamma, p1, p2, h1, h2, h3):\n",
    "    \n",
    "    # We use the calculated quantities to determine the consumers' utilities.\n",
    "    Q1 = demand_good1_func(betas, p1, p2, h1, h2, h3)\n",
    "    Q2 = demand_good2_func(betas, p1, p2, h1, h2, h3)\n",
    "    Q3 = demand_good3_func(betas, p1, p2, h1, h2, h3)\n",
    "    \n",
    "    # Betas\n",
    "    good1_beta = np.array([x[0] for x in betas])\n",
    "    good2_beta = np.array([x[1] for x in betas])\n",
    "    good3_beta = np.array([x[2] for x in betas])\n",
    "    \n",
    "    # Calculation of consumers' utilities.\n",
    "    return ((Q1**good1_beta)*(Q2**good2_beta)*(Q3**good3_beta))**gamma\n",
    "    "
   ]
  },
  {
   "cell_type": "code",
   "execution_count": 259,
   "metadata": {},
   "outputs": [],
   "source": [
    "# Define the new u with the new values for the prices\n",
    "p1 = 6.4436\n",
    "p2 = 2.5921\n",
    "u_j_new = u_j2(betas, gamma, p1, p2, h1, h2, h3)"
   ]
  },
  {
   "cell_type": "code",
   "execution_count": 260,
   "metadata": {},
   "outputs": [
    {
     "data": {
      "image/png": "[encoded data removed]",
      "text/plain": [
       "<Figure size 432x288 with 1 Axes>"
      ]
     },
     "metadata": {},
     "output_type": "display_data"
    },
    {
     "name": "stdout",
     "output_type": "stream",
     "text": [
      "Mean different endowments:     1.0101644016258116\n",
      "Variance different endowments: 0.317340867953136\n",
      "Mean equal endowments:         0.9765362713740917\n",
      "Variance equal endowments:     0.6330577903556954\n"
     ]
    }
   ],
   "source": [
    "# We plot the new values in a histogram\n",
    "plt.hist(u_j_star, bins = 100, alpha = 0.8, label = 'Different endowments', color = 'm')\n",
    "plt.hist(u_j_new, bins = 100, alpha = 0.5, label = 'Equal endowments', color = 'g')\n",
    "plt.style.use('ggplot')\n",
    "plt.title('Distribution of utility, N consumers')\n",
    "plt.xlabel('Utility')\n",
    "plt.ylabel('Consumers (N)')\n",
    "plt.legend()\n",
    "plt.show()\n",
    "print(\"Mean different endowments:    \" ,np.mean(u_j_star))\n",
    "print(\"Variance different endowments:\" ,np.var(u_j_star))\n",
    "print(\"Mean equal endowments:        \" ,np.mean(u_j_new))\n",
    "print(\"Variance equal endowments:    \" ,np.var(u_j_new))"
   ]
  },
  {
   "cell_type": "markdown",
   "metadata": {},
   "source": [
    "We see a slightly lower mean for the equal endowments, as well as a higher variance.\n",
    "The variance can clearly be seen visually to be higher for the equal endowments shown as the green histogram.\n",
    "\n",
    "This is due to the fact, that by having equal endowments, the incitament for exchanging is lesser, since every endowment is exactly the same. Thereby the mean is approximately the same, yet the variance is higher, which also is the case in the histogram."
   ]
  },
  {
   "cell_type": "code",
   "execution_count": 256,
   "metadata": {},
   "outputs": [],
   "source": [
    "# We now set a new gamma to see if the conclusion change\n",
    "gamma = 0.05"
   ]
  },
  {
   "cell_type": "code",
   "execution_count": 250,
   "metadata": {},
   "outputs": [],
   "source": [
    "# Define the function where endowments are different with new gamma\n",
    "def u_j(betas, gamma, p1, p2, e1, e2, e3):\n",
    "    \n",
    "    # We use the calculated quantities to determine the consumers' utilities.\n",
    "    Q1 = demand_good1_func(betas, p1, p2, e1, e2, e3)\n",
    "    Q2 = demand_good2_func(betas, p1, p2, e1, e2, e3)\n",
    "    Q3 = demand_good3_func(betas, p1, p2, e1, e2, e3)\n",
    "    \n",
    "    # Betas\n",
    "    good1_beta = np.array([x[0] for x in betas])\n",
    "    good2_beta = np.array([x[1] for x in betas])\n",
    "    good3_beta = np.array([x[2] for x in betas])\n",
    "    \n",
    "    # Calculation of consumers' utilities.\n",
    "    return ((Q1**good1_beta)*(Q2**good2_beta)*(Q3**good3_beta))**gamma\n",
    "\n",
    "p1 = 6.4901\n",
    "p2 = 2.6167\n",
    "u_j_star_gamma = u_j(betas, gamma, p1, p2, e1, e2, e3)   "
   ]
  },
  {
   "cell_type": "code",
   "execution_count": 251,
   "metadata": {},
   "outputs": [],
   "source": [
    "# Define the function where endowments are equal with new gamma\n",
    "def u_j2(betas, gamma, p1, p2, h1, h2, h3):\n",
    "    \n",
    "    # We use the calculated quantities to determine the consumers' utilities.\n",
    "    Q1 = demand_good1_func(betas, p1, p2, h1, h2, h3)\n",
    "    Q2 = demand_good2_func(betas, p1, p2, h1, h2, h3)\n",
    "    Q3 = demand_good3_func(betas, p1, p2, h1, h2, h3)\n",
    "    \n",
    "    # Betas\n",
    "    good1_beta = np.array([x[0] for x in betas])\n",
    "    good2_beta = np.array([x[1] for x in betas])\n",
    "    good3_beta = np.array([x[2] for x in betas])\n",
    "    \n",
    "    # Calculation of consumers' utilities.\n",
    "    return ((Q1**good1_beta)*(Q2**good2_beta)*(Q3**good3_beta))**gamma    \n",
    "\n",
    "p1 = 6.4436\n",
    "p2 = 2.5921\n",
    "u_j_new_gamma = u_j2(betas, gamma, p1, p2, h1, h2, h3)"
   ]
  },
  {
   "cell_type": "code",
   "execution_count": 252,
   "metadata": {},
   "outputs": [
    {
     "data": {
      "image/png": "[encoded data removed]",
      "text/plain": [
       "<Figure size 432x288 with 1 Axes>"
      ]
     },
     "metadata": {},
     "output_type": "display_data"
    },
    {
     "name": "stdout",
     "output_type": "stream",
     "text": [
      "Mean different endowments:     0.9915627924172458\n",
      "Variance different endowments: 0.001276360195555543\n",
      "Mean equal endowments:         0.9762090414704895\n",
      "Variance equal endowments:     0.0036798247996422287\n"
     ]
    }
   ],
   "source": [
    "# We plot the new values in a histogram\n",
    "plt.hist(u_j_star_gamma, bins = 100, alpha = 0.8, label = 'Different endowments', color = 'm')\n",
    "plt.hist(u_j_new_gamma, bins = 100, alpha = 0.5, label = 'Equal endowments', color = 'g')\n",
    "plt.style.use('ggplot')\n",
    "plt.title(r'Distribution of utility, N consumers, gamma = 0.05')\n",
    "plt.xlabel('Utility')\n",
    "plt.ylabel('Consumers (N)')\n",
    "plt.legend()\n",
    "plt.show()\n",
    "print(\"Mean different endowments:    \" ,np.mean(u_j_star_gamma)),\n",
    "print(\"Variance different endowments:\" ,np.var(u_j_star_gamma))\n",
    "print(\"Mean equal endowments:        \" ,np.mean(u_j_new_gamma)), \n",
    "print(\"Variance equal endowments:    \" ,np.var(u_j_new_gamma))"
   ]
  },
  {
   "cell_type": "markdown",
   "metadata": {},
   "source": [
    "As seen above, the conclusion does not change as gamma decreases to 0.05, the relative relationship between the two utility distributions are still the same.\n"
   ]
  }
 ],
 "metadata": {
  "kernelspec": {
   "display_name": "Python 3",
   "language": "python",
   "name": "python3"
  },
  "language_info": {
   "codemirror_mode": {
    "name": "ipython",
    "version": 3
   },
   "file_extension": ".py",
   "mimetype": "text/x-python",
   "name": "python",
   "nbconvert_exporter": "python",
   "pygments_lexer": "ipython3",
   "version": "3.7.1"
  },
  "toc-autonumbering": false
 },
 "nbformat": 4,
 "nbformat_minor": 2
}
