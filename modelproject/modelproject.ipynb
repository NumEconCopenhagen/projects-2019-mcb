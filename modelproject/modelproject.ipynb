{
 "cells": [
  {
   "cell_type": "markdown",
   "metadata": {},
   "source": [
    "# Analyzing Romer's RBC model\n",
    "\\usepackage{ amssymb }\n",
    "\n",
    "In this assignment we will analyze a standard RBC model presented by David Romer, starting by looking at the utility function in 1 period, thereafter looking at a simple static model and in the end a 2-period model. \n",
    "\n",
    "We will throughout the analysis assume the households have the following utility function:\n",
    "\n",
    "$u(C_t, L_t) = \\dfrac{C_t^{(1-\\theta)}-1}{1-\\theta} + b \\bigg(\\dfrac{(1-L_t)^{1-\\omega}-1}{1-\\omega}\\bigg)$\n",
    "\n",
    "Where C is consumption and L is labor (which has been normalized to 1). The parameters are as follows:\n",
    "\n",
    "- $\\theta$: Greater than 0 and less than 1, and describes the relative risk aversion for the individual. \n",
    "- $\\omega$: Greater than 0 and less than 1, and describes the inversee intertemporal elasticity of substitution between period 1 and period 2 for the individual. \n",
    "- b: Greater than 0, controls importance for leisure. \n",
    "\n",
    "In the case where $\\theta = \\omega = 1$ the utility function will be defined as the following to avoid division by zero: \n",
    "\n",
    "$u(C_t, L_t) = ln(C_t) + b*ln(1-L_t)$\n",
    "\n",
    "The lagrangian is therefore: \n",
    "\n",
    "$\\mathcal{L} = ln(C) + bln(1-L) + \\lambda(wL - C)$\n",
    "\n",
    "We will now start by defining the utility function described above: \n"
   ]
  },
  {
   "cell_type": "code",
   "execution_count": 1,
   "metadata": {},
   "outputs": [
    {
     "data": {
      "text/plain": [
       "1.0"
      ]
     },
     "execution_count": 1,
     "metadata": {},
     "output_type": "execute_result"
    }
   ],
   "source": [
    "# %load Modelproject.py\n",
    "import numpy as np\n",
    "import matplotlib.pyplot as plt\n",
    "import matplotlib as mpl\n",
    "from mpl_toolkits.mplot3d import Axes3D\n",
    "from scipy import linalg, interpolate, io\n",
    "\n",
    "#Write explaination and equations for the utility function defined\n",
    "#by consumption and lesisure by Romer. \n",
    "\n",
    "def u(C, L): #Defining the utility function\n",
    "    if theta == 1.0:\n",
    "        consumption = np.log(C) #This is a condition of the simple utility flow model. \n",
    "    else:\n",
    "        consumption = (C**(1-theta)-1/(1-theta))\n",
    "\n",
    "    if omega == 1.0:\n",
    "        leisure = np.log(1-L)  #This is a condition of the simple utility flow model. \n",
    "    else:\n",
    "        leisure = ((1-L)**(1-omega)-1/(1-omega))\n",
    "\n",
    "    #Flow utility is defined as:\n",
    "    utility = consumption + b*leisure\n",
    "\n",
    "    return utility\n",
    "\n",
    "b, omega, theta = 3.0, 1.0, 1.0 #set some parameter values\n",
    "\n",
    "u(np.exp(1),0) #Checking if the function is working properly. If result is 1, it works!"
   ]
  },
  {
   "cell_type": "markdown",
   "metadata": {},
   "source": [
    "We have chosen to set some initial parameter values to test whether the function we define works or not. As the result of the above comes out as 1, it shows the function is indeed working as intended. \n",
    "\n",
    "We will now create a 3 dimensional plot of the relationship between consumption and labor, while also showing the utility on the 3rd axis."
   ]
  },
  {
   "cell_type": "code",
   "execution_count": 13,
   "metadata": {},
   "outputs": [
    {
     "data": {
      "application/vnd.jupyter.widget-view+json": {
       "model_id": "4cd94957c8f4470ca9c998894a3048fc",
       "version_major": 2,
       "version_minor": 0
      },
      "text/plain": [
       "FigureCanvasNbAgg()"
      ]
     },
     "metadata": {},
     "output_type": "display_data"
    }
   ],
   "source": [
    "#We will now plot the utility function we just found defined, in a 3-dimensional plot:\n",
    "\n",
    "#create the plot\n",
    "%matplotlib widget\n",
    "\n",
    "fig = plt.figure(figsize=(8,5))\n",
    "\n",
    "# create a 3D Axes object\n",
    "ax = fig.gca(projection='3d', elev=30, azim=310)\n",
    "\n",
    "#Grid of (x,y) values which we will pass to function\n",
    "consumption = np.linspace(0, 20, 200)\n",
    "labor = np.linspace(0, 1, 20)\n",
    "L, C = np.meshgrid(labor, consumption)\n",
    "\n",
    "#Parameter values\n",
    "b, theta, omega = 2.0, 0.2, 0.2\n",
    "\n",
    "\n",
    "#We define utility as the function we made earlier. \n",
    "utility = u(C, L)\n",
    "\n",
    "#Plot surface\n",
    "utility_surface = ax.plot_surface(L, C, utility, rstride=1, cstride=1, cmap=mpl.cm.terrain, \n",
    "                                  linewidth=0, vmin=-2, vmax=np.max(utility), \n",
    "                                  antialiased=False)\n",
    "\n",
    "# axes, labels, title, colorbar etc.\n",
    "ax.set_xlim(0, 1)\n",
    "ax.set_ylim(0, 20)\n",
    "ax.set_xlabel(r\"Labor, $L_{t}$\", fontsize=15, family=\"serif\")\n",
    "ax.set_ylabel(r\"Consumption, $C_{t}$\", fontsize=15, family=\"serif\")\n",
    "ax.set_zlabel(r\"Utility, u(C, L)\", fontsize=15, family=\"serif\")\n",
    "ax.set_title(r'$u(C,\\ L)$ for $b=%.2f, \\theta=%.2f, \\omega=%.2f$' %(b, theta, omega), \n",
    "             fontsize=20, family='serif')\n",
    "fig.colorbar(utility_surface, shrink=0.75, aspect=10)\n",
    "\n",
    "ax.invert_xaxis()\n",
    "\n",
    "# display plot\n",
    "plt.show()"
   ]
  },
  {
   "cell_type": "markdown",
   "metadata": {},
   "source": [
    "The figure can be rotated to fully comprehend the dimensions.\n",
    "The color depicts the utility gained at a certain spot on the graph.\n",
    "The figure shows, that the utility is highly dependant on the consumption, and less dependant on the labor given the parameters for relative risk aversion ($\\theta$ = 0.2), the inverse intertemporal elasticity of substitution ($\\omega$ = 0.2) and the importance of leisure (b = 2).\n",
    "\n",
    "To further understand the utility function, we inspect a 2 dimensional version of the graph above with a fixed level of labor and analyze the effect of the important of leisure (b).\n",
    "\n",
    "We will now look at the effects of b, which shows the importance of labor, by locking consumption and leisure, risk aversion \n",
    "($\\theta$) and the inverse intertemporal elasticity of substitution ($\\omega$)"
   ]
  },
  {
   "cell_type": "code",
   "execution_count": 19,
   "metadata": {},
   "outputs": [
    {
     "data": {
      "application/vnd.jupyter.widget-view+json": {
       "model_id": "49163564fa624abaaadbe56532a62aae",
       "version_major": 2,
       "version_minor": 0
      },
      "text/plain": [
       "FigureCanvasNbAgg()"
      ]
     },
     "metadata": {},
     "output_type": "display_data"
    }
   ],
   "source": [
    "# Fix l_bar and c_bar\n",
    "L_lock, C_lock = 0.3, 10         #Fixing specific values for labor and consumption\n",
    "b, theta, omega = 1.5, 0.2, 0.2  #Picking arbitrary parameter values\n",
    "\n",
    "fig, axes = plt.subplots(1, 2, sharey=True, figsize=(8,6)) #We make the two plots share the same y-axis\n",
    "ax1, ax2 = axes\n",
    "\n",
    "for b in [0.5, 1.0, 1.5, 2.0]:\n",
    "    #Here we lock leisure, and plot consumption and set leisure level while varying b\n",
    "    ax1.plot(consumption, u(consumption, L_lock), label = \"b=%g\" %b) \n",
    "\n",
    "    #Axes, labels, etc\n",
    "    ax1.set_xlabel(\"Consumption = 10, $C_t$\", family=\"serif\")\n",
    "    ax1.set_ylabel(r\"u$(C_t, \\bar{L})$\", rotation = \"vertical\")\n",
    "    ax1.set_title(\"Slicing through $u(C_{t}, L_{t})$ at $L_{t}=%.2f$\" %L_lock, family=\"serif\")\n",
    "\n",
    "    #Next we do the same, but hold consumption locked. \n",
    "    ax2.plot(labor, u(C_lock, labor), label = \"b=%g\" %b)\n",
    "\n",
    "    #Axes, labels, etc\n",
    "    ax2.set_xlabel(\"Labor = 0.3, $L_t$\", family=\"serif\")\n",
    "    ax2.set_title(\"Slicing through $u(C_{t}, L_{t})$ at $C_{t}=%.2f$\" %C_lock, family = \"serif\")\n",
    "\n",
    "ax2.legend(loc=0, frameon=False, prop={'family':'serif'})\n",
    "\n",
    "plt.tight_layout()\n",
    "plt.suptitle('Slicing for various b', y=1.00, fontsize=15, family='serif')\n",
    "plt.show()\n"
   ]
  },
  {
   "cell_type": "markdown",
   "metadata": {},
   "source": [
    "The parameter values for the figures above is locked on $\\theta$ = 0.2 and $\\omega$ = 0.2\n",
    "\n",
    "As expected we see a positive correlation between consumption and utility and a negative correlation between labor and utility.\n",
    "The utility given a fixed labor (left figure) shows that the marginal change in utility for different values of b (importance of leisure) is constant for all values of consumption. Lower b gives a lower utility.\n",
    "\n",
    "The figure on the right depicts the relation between labor and utility, given a fixed consumption. The relation shows, that the marginal utility of labor is decreasing as b increases. This also coincides with our economic intiuition as b is the preference for leisure, and the more an individual weighs leisure, the more disutility is gained from extra labor. \n",
    "\n",
    "Instead of looking at the importance of leisure, we look at $\\theta$, which describes the risk aversion."
   ]
  },
  {
   "cell_type": "code",
   "execution_count": 20,
   "metadata": {},
   "outputs": [
    {
     "data": {
      "application/vnd.jupyter.widget-view+json": {
       "model_id": "76b31fd017fe4119bd2e268dff144e7a",
       "version_major": 2,
       "version_minor": 0
      },
      "text/plain": [
       "FigureCanvasNbAgg()"
      ]
     },
     "metadata": {},
     "output_type": "display_data"
    }
   ],
   "source": [
    "# Fix l_bar and c_bar\n",
    "L_lock, C_lock = 0.3, 10           #Fixing specific values for labor and consumption\n",
    "b, theta, omega = 1.5, 0.2, 0.2    #Picking arbitrary parameter values\n",
    "\n",
    "# create a new figure object!\n",
    "fig, axes = plt.subplots(1, 2, sharey=True, figsize=(8,6))\n",
    "ax1, ax2 = axes\n",
    "\n",
    "for theta in [0.2, 0.4, 0.6, 0.8]:\n",
    "    \n",
    "    # first subplot will fix l at some constant l_bar and plot u(C, l_bar)\n",
    "    ax1.plot(consumption, u(consumption, L_lock), label=r'$\\theta=%g$' %theta)\n",
    "\n",
    "    # axes, labels, title. legend, etc\n",
    "    ax1.set_xlabel('Consumption, $C_{t}$', family='serif')\n",
    "    ax1.set_ylabel(r'$u(C_{t}, \\bar{L})$', rotation='vertical')\n",
    "    ax1.set_title('A slice through $u(C_{t}, L_{t})$ at $L_{t}=%.2f$' %L_lock,\n",
    "                  family='serif')\n",
    "\n",
    "    # first subplot will fix l at some constant l_bar and plot u(C, l_bar)\n",
    "    ax2.plot(labor, u(C_lock, labor), label=r'$\\theta=%g$' %theta)\n",
    "\n",
    "    # axes, labels, title. legend, etc\n",
    "    ax2.set_xlabel('Labor, $L_{t}$', family='serif')\n",
    "    ax2.set_title('A slice through $u(C_{t}, L_{t})$ at $C_{t}=%.2f$' %C_lock,\n",
    "                  family='serif')\n",
    "    \n",
    "ax2.legend(loc=0, frameon=False, prop={'family':'serif'})\n",
    "\n",
    "# tighten things up and add a title\n",
    "plt.tight_layout()\n",
    "plt.suptitle(r'Utility slices for various $\\theta$', y=1.05, fontsize=20, family='serif') \n",
    "\n",
    "plt.show()\n",
    "\n",
    "#For theta we have chosen to only include 0-2 because exceeding 2.0 messes with the y-axis"
   ]
  },
  {
   "cell_type": "markdown",
   "metadata": {},
   "source": [
    "When fixing labor (left graph), we see that the marginal utility is decreasing as risk aversion increases. \n",
    "\n",
    "When fixing consumption (right graph), we see that the marginal utility of labor is unaffected by changes in risk aversion, $\\theta$, but has a lower level of utility as $\\theta$ increases.\n",
    "\n",
    "The last parameter we want to analyze is the parameter for inverse intertemporal elasticity of substitution for the individual, $\\omega$."
   ]
  },
  {
   "cell_type": "code",
   "execution_count": 21,
   "metadata": {},
   "outputs": [
    {
     "data": {
      "application/vnd.jupyter.widget-view+json": {
       "model_id": "766d86d7c4c64846a2cdbba033b85b3d",
       "version_major": 2,
       "version_minor": 0
      },
      "text/plain": [
       "FigureCanvasNbAgg()"
      ]
     },
     "metadata": {},
     "output_type": "display_data"
    }
   ],
   "source": [
    "# Fix l_lock and c_lock\n",
    "L_lock, C_lock = 0.3, 10           #Fixing specific values for labor and consumption\n",
    "b, theta, omega = 1.5, 0.2, 0.2    #Picking arbitrary parameter values\n",
    "\n",
    "# create a new figure object!\n",
    "fig, axes = plt.subplots(1, 2, sharey=True, figsize=(8,6))\n",
    "ax1, ax2 = axes\n",
    "\n",
    "for omega in [0.2, 0.4, 0.6, 0.8]:\n",
    "    \n",
    "    # first subplot will fix l at some constant l_bar and plot u(C, l_bar)\n",
    "    ax1.plot(consumption, u(consumption, L_lock), label=r'$\\omega=%g$' %omega)\n",
    "\n",
    "    # axes, labels, title. legend, etc\n",
    "    ax1.set_xlabel('Consumption, $C_{t}$', family='serif')\n",
    "    ax1.set_ylabel(r'$u(C_{t}, \\bar{L})$', rotation='vertical')\n",
    "    ax1.set_title('A slice through $u(C_{t}, L_{t})$ at $L_{t}=%.2f$' %L_lock,\n",
    "                  family='serif')\n",
    "\n",
    "    ax2.plot(labor, u(C_lock, labor), label=r'$\\omega=%g$' %omega)\n",
    "\n",
    "    # axes, labels, title. legend, etc\n",
    "    ax2.set_xlabel('Labor, $L_{t}$', family='serif')\n",
    "    ax2.set_title('A slice through $u(C_{t}, L_{t})$ at $C_{t}=%.2f$' %C_lock,\n",
    "                  family='serif')\n",
    "    \n",
    "ax2.legend(loc=0, frameon=False, prop={'family':'serif'})\n",
    "\n",
    "# tighten things up and add a title\n",
    "plt.tight_layout()\n",
    "plt.suptitle(r'Utility slices for various $\\omega$', y=1.05, fontsize=20, family='serif') \n",
    "\n",
    "plt.show()"
   ]
  },
  {
   "cell_type": "markdown",
   "metadata": {},
   "source": [
    "As the intertemporal elasticity of substitution between leisure in period 1 and 2 increases, the level of utility is also lower for the individual. \n",
    "We should also notice, that for a consumption level close to 0 utility will approach an undefined value, as is the case when labor approaches 1. This should be clear given the definition of our utility function (see above). \n",
    "\n",
    "We notice a break, most noticable on the figure on the right when labor reaches 1.0. Theoretically, these functions are continous, but since we have defined our parameters of discrete numbers we see a break in the continous function when labor approaches 1, and consumption is near 0. "
   ]
  },
  {
   "cell_type": "markdown",
   "metadata": {},
   "source": [
    "We have now looked at the three different parameters using the \"slicing-through\"-method by fixing a parameter.\n",
    "\n",
    "\n",
    "\n",
    "### The trade-off between leisure and consumption"
   ]
  },
  {
   "cell_type": "code",
   "execution_count": 23,
   "metadata": {},
   "outputs": [
    {
     "data": {
      "application/vnd.jupyter.widget-view+json": {
       "model_id": "3c03199d31354eddba2d69f9f1ee9c19",
       "version_major": 2,
       "version_minor": 0
      },
      "text/plain": [
       "FigureCanvasNbAgg()"
      ]
     },
     "metadata": {},
     "output_type": "display_data"
    }
   ],
   "source": [
    "fig = plt.figure(figsize=(8,6))\n",
    "ax = fig.add_subplot(111)\n",
    "\n",
    "# Force logarithmic preferences!\n",
    "b, theta, omega = 2.0, 0.2, 0.2     #Picking arbitrary parameter values \n",
    "\n",
    "# we will actually plot output\n",
    "utility = u(C, L)                   #we use the function from earlier \n",
    "\n",
    "# create the contour plot\n",
    "im = ax.imshow(utility, interpolation='gaussian', origin='lower', cmap=mpl.cm.terrain, \n",
    "               vmin=np.min(utility), vmax=np.max(utility), extent=(0, 1, 0, 20), aspect=0.10)\n",
    "\n",
    "# demarcate the contours...\n",
    "CS = ax.contour(L, C, utility, np.linspace(np.min(utility), np.max(utility), 20), colors=np.repeat('k', 10), \n",
    "                linewidths=1, linestyles=\"dotted\")\n",
    "ax.clabel(CS, inline=1, fmt='%1.2f')\n",
    "\n",
    "# axes, labels, title, colorbar etc.\n",
    "ax.set_xlim(0, 1)\n",
    "ax.set_ylim(0, 20)\n",
    "ax.set_xlabel(r\"Labor, $L_{t}$\", fontsize=15, family='serif')\n",
    "ax.set_ylabel(r\"Consumption, $C_{t}$\", fontsize=15, family='serif')\n",
    "ax.set_title(r'$u(C,\\ L)$ for $b=%.2f, \\theta=%.2f, \\omega=%.2f$' %(b, theta, omega), \n",
    "             fontsize=20, family='serif')\n",
    "fig.colorbar(im, shrink=1, aspect=20)\n",
    "\n",
    "\n",
    "plt.show()"
   ]
  },
  {
   "cell_type": "markdown",
   "metadata": {},
   "source": [
    "We have chosen now to keep the parameters $\\theta$, $\\omega$ and b fixed and thereby look at the trade-off between laber and consumption. Thereby we can see the trade-off between consumption and labor.\n",
    "\n",
    "The figure above shows the trade-off, where the color represents the utility.\n",
    "It is seen, that a high labor and low consumption gives a low utility, while a low amount of labor with a high consumption will yield a higher utility."
   ]
  },
  {
   "cell_type": "markdown",
   "metadata": {},
   "source": [
    "## Example of the static model\n",
    "\\usepackage{amsmath}\n",
    "\n",
    "We will for the sake of simplicity assume $\\omega = \\theta = 1$ and, look at the lagrangian defined earlier which gives us the following first order conditions(wrt. C, W, and $\\lambda$): \n",
    "\n",
    "- $\\dfrac{1}{C} - \\lambda = 0$\n",
    "- $\\dfrac{-b}{1-L} - \\lambda W = 0$\n",
    "- $C = W*L$\n",
    "\n",
    "\n",
    "\n",
    "This yields the following linear equation: \n",
    "$$\\quad\n",
    "\\begin{vmatrix} \n",
    "b & W \\\\\n",
    "1 & -W \n",
    "\\end{vmatrix}\n",
    "\\quad\\quad\n",
    "\\begin{vmatrix} \n",
    "C \\\\\n",
    "L \n",
    "\\end{vmatrix}\n",
    "\\quad = \\quad \n",
    "\\begin{vmatrix}\n",
    "W \\\\ 0 \n",
    "\\end{vmatrix} \\quad$$\n",
    "\n",
    "This can be solved as follows:"
   ]
  },
  {
   "cell_type": "code",
   "execution_count": 24,
   "metadata": {},
   "outputs": [
    {
     "name": "stdout",
     "output_type": "stream",
     "text": [
      "Optimal choice of consumption:          8.000000000000002\n",
      "Optimal choice of labor supply:         0.3999999999999999\n",
      "Utility associated with optimal bundle: 1.3132031060308504\n"
     ]
    }
   ],
   "source": [
    "# specify some model parameters\n",
    "theta, omega, b, W = 1.0, 1.0, 1.5, 20\n",
    "\n",
    "# Define the coefficient matrix, A, and vector of dependent values, d, for our two equation system\n",
    "A = np.array([[b, W], \n",
    "              [1, -W]]) \n",
    "d = np.array([[W], \n",
    "              [0]])\n",
    "\n",
    "# Solve the system of equations and assign the optimal choices for consumption and labor\n",
    "C_star, L_star = linalg.solve(A, d)[0,0], linalg.solve(A, d)[1,0] \n",
    "u_star = u(C_star, L_star)\n",
    "\n",
    "print(\"Optimal choice of consumption:         \", C_star)\n",
    "print(\"Optimal choice of labor supply:        \", L_star)\n",
    "print(\"Utility associated with optimal bundle:\", u_star)"
   ]
  },
  {
   "cell_type": "markdown",
   "metadata": {},
   "source": [
    "Above we see the optimal choices of consumption, labor and the resulting utility for the individual given the the importance of leisure = 1.5 and wage = 20.\n",
    "\n",
    "Next we will look at how this particular bundle intercepts the budget constraint, and we will show it graphically:"
   ]
  },
  {
   "cell_type": "code",
   "execution_count": 26,
   "metadata": {},
   "outputs": [
    {
     "data": {
      "application/vnd.jupyter.widget-view+json": {
       "model_id": "71c37dcb348c415ea795bb86aee99216",
       "version_major": 2,
       "version_minor": 0
      },
      "text/plain": [
       "FigureCanvasNbAgg()"
      ]
     },
     "metadata": {},
     "output_type": "display_data"
    },
    {
     "name": "stderr",
     "output_type": "stream",
     "text": [
      "C:\\Users\\Christian\\Anaconda3\\lib\\site-packages\\ipykernel_launcher.py:13: RuntimeWarning: divide by zero encountered in log\n",
      "  del sys.path[0]\n",
      "C:\\Users\\Christian\\Anaconda3\\lib\\site-packages\\ipykernel_launcher.py:18: RuntimeWarning: divide by zero encountered in log\n"
     ]
    }
   ],
   "source": [
    "fig = plt.figure(figsize=(8,6))\n",
    "ax = fig.add_subplot(111)\n",
    "\n",
    "# we will actually plot output\n",
    "utility = u(C, L)\n",
    "\n",
    "# re-create the contour plot\n",
    "im = ax.imshow(utility, interpolation='gaussian', origin='lower', cmap=mpl.cm.terrain, \n",
    "                vmin=-4, vmax=3, extent=(-0.1, 1.2, -1, 40), aspect=0.05)\n",
    "\n",
    "# plot the budget constraint\n",
    "labor_supply = np.linspace(0, 1, 100)\n",
    "ax.plot(labor_supply, W*labor_supply, 'r-', label='$C=WL$')\n",
    "\n",
    "# demarcate the contours...\n",
    "# demarcate the indifference curve...\n",
    "CS = ax.contour(L, C, utility, np.array([u_star]), colors='k', linewidths=1, linestyles='solid')\n",
    "ax.clabel(CS, inline=1, fmt='%1.2f')\n",
    "\n",
    "# mark the optimal bundle\n",
    "ax.hlines(C_star, 0, L_star, linestyle='dashed')\n",
    "ax.vlines(L_star, 0, C_star, linestyle='dashed')\n",
    "\n",
    "# axes, labels, title, colorbar etc.\n",
    "ax.set_xlim(0, 1)\n",
    "ax.set_ylim(0, 20)\n",
    "ax.set_xlabel(r'Labor, $L_{t}$', fontsize=15, family='serif')\n",
    "ax.set_ylabel(r'Consumption, $C_{t}$', fontsize=15, family='serif')\n",
    "ax.set_title(r'$u(C,\\ L)$ for $b=%.2f, \\theta=%.2f, \\omega=%.2f$' %(b, theta, omega), \n",
    "             fontsize=20, family='serif')\n",
    "ax.legend(loc='best', frameon=False)\n",
    "\n",
    "fig.colorbar(im, shrink=0.8, aspect=20)\n",
    "\n",
    "plt.show()"
   ]
  },
  {
   "cell_type": "markdown",
   "metadata": {},
   "source": [
    "We notice the error message 'Division by zero'. This is due to $\\omega$ and $\\theta$ being 1. However as described in the top, we have defined the function in this situation, and therefore disregard the error and continue on.\n",
    "\n",
    "Given the values of b = 0.15 and Wage = 20, we see the utility function as the indifference curve, being 1.31, and the appropriate optimal choices along the red line. As we saw before, we numerically solved the problem and saw the optimal labor choice was 0.40 and the optimal consumption choice was 8.00 which leads to an utility of 1.31. We see the exactly same here when showing it graphically. \n"
   ]
  },
  {
   "cell_type": "markdown",
   "metadata": {},
   "source": [
    "## 2-period RBC model\n",
    "\n",
    "In the static model we have just looked at above, the level of the individuals labor is unaffected by the amount of wage the individual gets. One could argue that real wages would have an effect on labor supply when the time horizon is more than one period. Therefore, we will now assume that the individual households has two periods of time and that no uncertainty about future prices exist in this model. Due to their logarithmic preferences the households will only use a fraction of their income in period 0 and the rest in period 1. Their budget constraint can therefore be written as follows:\n",
    "\n",
    "$C_0 + \\dfrac{1}{1+r_1} C_1 = W_0 L_0 + \\dfrac{1}{1+r_1} W_1 L_1$\n",
    "\n",
    "The lagrangian to this is: \n",
    "\n",
    "$\\mathcal{L} \\equiv ln(C_0) + b*ln(1-L_0) + \\beta \\bigg[ln(C_1) + b*ln(1-L_1)\\bigg]+ \\lambda \\bigg[C_0 + \\frac{1}{1+r_1}C_1 - W_0 L_0 - \\dfrac{1}{1+r_1} W_1 L_1\\bigg]$\n",
    "\n",
    "\n",
    "\n",
    "\n",
    "Important notes: \n",
    "\n",
    "The households lifetime income is represented as: $W_0 + \\dfrac{1}{1+r_1}W_1$\n",
    "\n",
    "The labor supply has to be non-negative in each of the periods, Therefore for period t=0 the following inequality must hold: \n",
    "\n",
    "$\\bigg(\\dfrac{1}{1+r_1}\\bigg)\\bigg(\\dfrac{W_1}{W_0}\\bigg) < \\bigg(\\dfrac{1+b}{b}\\bigg)\\bigg(\\dfrac{1+\\beta}{\\beta}\\bigg) - 1$"
   ]
  },
  {
   "cell_type": "code",
   "execution_count": 27,
   "metadata": {},
   "outputs": [
    {
     "name": "stdout",
     "output_type": "stream",
     "text": [
      "Labor endowment: 39.61\n",
      "Optimal C in period 0:      6.34\n",
      "Optimal C in period 1:      9.70\n",
      "Optimal L in period 0:      0.52\n",
      "Optimal L in period 1:      0.27\n",
      "Utility flow in period 0:   0.73\n",
      "Utility flow in period 1:   1.79\n"
     ]
    }
   ],
   "source": [
    "# We choose arbitrary parameter values. \n",
    "b, beta, theta, omega = 1.5, 1.5, 1, 1\n",
    " \n",
    "# Specify some arbitrary prices which the household will take as given. \n",
    "W0, W1, r1 = 20, 20, 0.02\n",
    "\n",
    "# Calculate endowment given prices.\n",
    "endowment = W0 + (1 / (1 + r1)) * W1\n",
    "\n",
    "print(\"Labor endowment:\", \"{:.2f}\".format(endowment))\n",
    "\n",
    "# is the non-negativity constraint on l0 satisfied by your chosen prices\n",
    "(1 / (1 + r1)) * (W1 / W0) < ((((1 + b) * (1 + beta)) / b) - 1) #result is true - Constraint is satisfied. \n",
    "\n",
    "#Define the two matrixes derived from the model\n",
    "A = np.array([[b, 0, W0, 0], \n",
    "              [beta * (1 + r1), -1, 0, 0], \n",
    "              [0, b, 0, W1], \n",
    "              [1, 1 / (1 + r1), -W0, -(1 / (1 + r1)) * W1]])\n",
    "\n",
    "d = np.array([[W0], \n",
    "              [0], \n",
    "              [W1], \n",
    "              [0]])\n",
    "# Solve the system of equations and assign the optimal choices for consumption and labor\n",
    "C_0 = linalg.solve(A, d)[0,0]\n",
    "C_1 = linalg.solve(A, d)[1,0] \n",
    "L_0 = linalg.solve(A, d)[2,0]\n",
    "L_1 = linalg.solve(A, d)[3,0]\n",
    "u_0 = u(C_0, L_0)\n",
    "u_1 = u(C_1, L_1)\n",
    "print(\"Optimal C in period 0:     \", \"{:.2f}\".format(C_0)) #Shows the optimal amount of consumption in each of the two periods\n",
    "print(\"Optimal C in period 1:     \", \"{:.2f}\".format(C_1)) \n",
    "print(\"Optimal L in period 0:     \", \"{:.2f}\".format(L_0)) #Shows the optimal amount of labor in each of the two periods\n",
    "print(\"Optimal L in period 1:     \", \"{:.2f}\".format(L_1))\n",
    "print(\"Utility flow in period 0:  \", \"{:.2f}\".format(u_0)) #Shows utility \n",
    "print(\"Utility flow in period 1:  \", \"{:.2f}\".format(u_1))"
   ]
  },
  {
   "cell_type": "markdown",
   "metadata": {},
   "source": [
    "The results above indicates, that the individual given the values used, prefers having a relatively low utility in the first period, and have a large amount of utility in the second period. \n",
    "\n",
    "- Period 0: \n",
    "\n",
    "\n",
    "- Period 1: Labor = 0.27, Consumption = 9.70, Utility = 1.79\n",
    "\n",
    "Thereby, the individual values suffering a bit in the first period by working hard and spending the least amound, giving a relatively low utility.\n",
    "The indivudual can afterwards in period 2 harvest the gains by having a large consumption and working the minimum of 0.1 giving a high utility of 1.79.\n",
    "\n",
    "We can also try and it solve it using the equations defined: "
   ]
  },
  {
   "cell_type": "code",
   "execution_count": 28,
   "metadata": {},
   "outputs": [
    {
     "name": "stdout",
     "output_type": "stream",
     "text": [
      "Optimal C, t=0: 6.34\n",
      "Optimal C, t=1: 9.70\n",
      "Optimal L, t=0: 0.52\n",
      "Optimal L, t=1: 0.27\n"
     ]
    }
   ],
   "source": [
    "print(\"Optimal C, t=0:\", \"{:.2f}\".format((1 / ((1 + b) * (1 + beta))) * (W0 + (1 / (1 + r1)) * W1))) \n",
    "print(\"Optimal C, t=1:\", \"{:.2f}\".format(((1 + r1) / (1 + b)) * (beta / (1 + beta)) * (W0 + (1 / (1 + r1)) * W1)))\n",
    "print(\"Optimal L, t=0:\", \"{:.2f}\".format(1 - (b / W0) * (1 /((1 + b) * (1 + beta))) * (W0 + (1 / (1 + r1)) * W1)))\n",
    "print(\"Optimal L, t=1:\", \"{:.2f}\".format(1 - ((b * beta * (1 + r1)) / W1) * (1 /((1 + b) * (1 + beta))) * (W0 + (1 / (1 + r1)) * W1)))"
   ]
  },
  {
   "cell_type": "code",
   "execution_count": 29,
   "metadata": {},
   "outputs": [],
   "source": [
    "import ipywidgets as widgets\n",
    "from ipywidgets import interact, interact_manual\n"
   ]
  },
  {
   "cell_type": "code",
   "execution_count": 31,
   "metadata": {},
   "outputs": [
    {
     "data": {
      "application/vnd.jupyter.widget-view+json": {
       "model_id": "48b49a8ff8744401a4c422d147e34955",
       "version_major": 2,
       "version_minor": 0
      },
      "text/plain": [
       "FigureCanvasNbAgg()"
      ]
     },
     "metadata": {},
     "output_type": "display_data"
    },
    {
     "name": "stderr",
     "output_type": "stream",
     "text": [
      "C:\\Users\\Christian\\Anaconda3\\lib\\site-packages\\ipykernel_launcher.py:13: RuntimeWarning: divide by zero encountered in log\n",
      "  del sys.path[0]\n",
      "C:\\Users\\Christian\\Anaconda3\\lib\\site-packages\\ipykernel_launcher.py:18: RuntimeWarning: divide by zero encountered in log\n"
     ]
    }
   ],
   "source": [
    "#We will now plot the budget constraint for t=0 and the indifference curve from earlier. \n",
    "fig = plt.figure(figsize=(8,6))\n",
    "ax = fig.add_subplot(111)\n",
    "\n",
    "#We define utility as the function as we did before\n",
    "utility = u(C, L)\n",
    "\n",
    "# re-create the contour plot\n",
    "im = ax.imshow(utility, interpolation='gaussian', origin='lower', cmap=mpl.cm.terrain, \n",
    "               vmin=-4, vmax=3, extent=(-0.1, 1.2, -1, 40), aspect=0.05)\n",
    "\n",
    "#We plot the budget constraint. (See equation in notebook - Will be added.)\n",
    "labor_supply = np.linspace(0, 1, 100)\n",
    "ax.plot(labor_supply, W0 * labor_supply + (1 / (1 + r1)) * (W1 * L_1 - C_1),\n",
    "        color='r')\n",
    "\n",
    "#We plot the indifference curve\n",
    "CS = ax.contour(L, C, utility, np.array([u_0]), colors='r', linewidths=1, linestyles='solid')\n",
    "ax.clabel(CS, inline=1, fmt='%1.2f', fontsize = 12)\n",
    "\n",
    "# mark the optimal consumption and labor. \n",
    "ax.hlines(C_0, 0, L_0, linestyle='dashed')\n",
    "ax.vlines(L_0, 0, C_0, linestyle='dashed')\n",
    "\n",
    "#Plotting the second period in same graph\n",
    "#We plot the second budget constraint.\n",
    "labor_supply2 = np.linspace(0, 1, 100)\n",
    "ax.plot(labor_supply2, (W1 * labor_supply2 + (W0 * L_0 - C_0)), color='b')\n",
    "\n",
    "#We plot the second indifference curve\n",
    "CS2 = ax.contour(L, C, utility, np.array([u_1]), colors='b', linewidths=1, linestyles='solid')\n",
    "ax.clabel(CS2, inline=1, fmt='%1.2f', fontsize = 12)\n",
    "\n",
    "# mark the optimal consumption and labor. \n",
    "ax.hlines(C_1, 0, L_1, linestyle='dashed')\n",
    "ax.vlines(L_1, 0, C_1, linestyle='dashed')\n",
    "\n",
    "# axes, labels, title, colorbar etc.\n",
    "ax.set_xlim(0, 1)\n",
    "ax.set_ylim(0, 20)\n",
    "ax.set_ylabel(r'Consumption, $C_{t}$', family='serif', fontsize=15)\n",
    "ax.set_xlabel(r'Labor, $L_{t}$', family='serif', fontsize=15)\n",
    "ax.set_title(r'Optimal bundle in period t=0 and t=1 for $b=%.2f, \\beta=%.2f$' %(b, beta), \n",
    "             fontsize=15, family='serif')\n",
    "#ax.legend(loc=0, frameon=False)\n",
    "fig.colorbar(im, shrink=1, aspect=20)\n",
    "\n",
    "plt.show()"
   ]
  },
  {
   "cell_type": "markdown",
   "metadata": {},
   "source": [
    "Again we see the division by zero, which we disregard.\n",
    "\n",
    "- Red:  Period 0\n",
    "- Blue: Period 1\n",
    "\n",
    "We can here see graphically how the individual choose to have a low utility in the first period and higher in the latter, and thereby have the highest accumulative utility for both periods. The conclusion being, consumption and labor has to be lower in period 0 in this example, compared to the 1-period model. Given the parameter values chosen."
   ]
  },
  {
   "cell_type": "markdown",
   "metadata": {},
   "source": [
    "## Conclusion\n",
    "\n",
    "In this project, we have programmed and analyzed the RBC model presented by David Romer, both a single- and two-period model where we determined the optimal bundles for both of these examples.\n",
    "\n",
    "We looked at how the parameters affected the utility of the individual. Here we saw, that as b increases consumption increases as well and labor decreases. For theta, we saw that an increase caused consumption to increased and labor decreased. The patteren was the same for omega. \n",
    "\n",
    "In the case where the individual only took 1 period into account, the optimal bundle was (C, L) = (8.00, 0.40) giving a utility of 1.31.\n",
    "Using the same parameter values, we analyzed the result of a 2-period mode, and saw that the individual now took both periods into account. The individual was (C, L) = (6.34, 0.52) with an utility of 0.73 in period 1, and (C, L) = (9.70, 0.27) with an utility of 1.79 in period 2. And thereby using the first period to have a lower utility and get a higher utility in the latter period."
   ]
  }
 ],
 "metadata": {
  "kernelspec": {
   "display_name": "Python 3",
   "language": "python",
   "name": "python3"
  },
  "language_info": {
   "codemirror_mode": {
    "name": "ipython",
    "version": 3
   },
   "file_extension": ".py",
   "mimetype": "text/x-python",
   "name": "python",
   "nbconvert_exporter": "python",
   "pygments_lexer": "ipython3",
   "version": "3.7.1"
  }
 },
 "nbformat": 4,
 "nbformat_minor": 2
}
